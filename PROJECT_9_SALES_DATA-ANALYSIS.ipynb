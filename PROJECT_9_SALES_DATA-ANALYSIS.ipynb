{
 "cells": [
  {
   "cell_type": "markdown",
   "id": "e97b06d9-8e7c-4545-82a9-e24aefd49d2e",
   "metadata": {},
   "source": [
    "## SALES DATA ANALAYSIS WITH PYTHON "
   ]
  },
  {
   "cell_type": "markdown",
   "id": "ec402a21-eada-4665-88df-57cc0336a2b0",
   "metadata": {},
   "source": [
    "- RESTARUANT SALES DATASET\n"
   ]
  },
  {
   "cell_type": "code",
   "execution_count": 4,
   "id": "7a894e39-de16-43ac-87c2-6f078e2f36bc",
   "metadata": {},
   "outputs": [],
   "source": [
    "import pandas as pd \n",
    "import numpy as np \n",
    "import matplotlib.pyplot as plt \n",
    "import seaborn as sns \n"
   ]
  },
  {
   "cell_type": "code",
   "execution_count": 6,
   "id": "23858d36-277f-4c76-bc45-e43a03a44530",
   "metadata": {},
   "outputs": [
    {
     "data": {
      "text/html": [
       "<div>\n",
       "<style scoped>\n",
       "    .dataframe tbody tr th:only-of-type {\n",
       "        vertical-align: middle;\n",
       "    }\n",
       "\n",
       "    .dataframe tbody tr th {\n",
       "        vertical-align: top;\n",
       "    }\n",
       "\n",
       "    .dataframe thead th {\n",
       "        text-align: right;\n",
       "    }\n",
       "</style>\n",
       "<table border=\"1\" class=\"dataframe\">\n",
       "  <thead>\n",
       "    <tr style=\"text-align: right;\">\n",
       "      <th></th>\n",
       "      <th>Order ID</th>\n",
       "      <th>Date</th>\n",
       "      <th>Product</th>\n",
       "      <th>Price</th>\n",
       "      <th>Quantity</th>\n",
       "      <th>Purchase Type</th>\n",
       "      <th>Payment Method</th>\n",
       "      <th>Manager</th>\n",
       "      <th>City</th>\n",
       "    </tr>\n",
       "  </thead>\n",
       "  <tbody>\n",
       "    <tr>\n",
       "      <th>0</th>\n",
       "      <td>10452</td>\n",
       "      <td>2022-11-07</td>\n",
       "      <td>Fries</td>\n",
       "      <td>3.49</td>\n",
       "      <td>573.065903</td>\n",
       "      <td>Online</td>\n",
       "      <td>Gift Card</td>\n",
       "      <td>Tom      Jackson</td>\n",
       "      <td>London</td>\n",
       "    </tr>\n",
       "    <tr>\n",
       "      <th>1</th>\n",
       "      <td>10453</td>\n",
       "      <td>2022-11-07</td>\n",
       "      <td>Beverages</td>\n",
       "      <td>2.95</td>\n",
       "      <td>745.762712</td>\n",
       "      <td>Online</td>\n",
       "      <td>Gift Card</td>\n",
       "      <td>Pablo Perez</td>\n",
       "      <td>Madrid</td>\n",
       "    </tr>\n",
       "    <tr>\n",
       "      <th>2</th>\n",
       "      <td>10454</td>\n",
       "      <td>2022-11-07</td>\n",
       "      <td>Sides &amp; Other</td>\n",
       "      <td>4.99</td>\n",
       "      <td>200.400802</td>\n",
       "      <td>In-store</td>\n",
       "      <td>Gift Card</td>\n",
       "      <td>Joao    Silva</td>\n",
       "      <td>Lisbon</td>\n",
       "    </tr>\n",
       "    <tr>\n",
       "      <th>3</th>\n",
       "      <td>10455</td>\n",
       "      <td>2022-11-08</td>\n",
       "      <td>Burgers</td>\n",
       "      <td>12.99</td>\n",
       "      <td>569.668976</td>\n",
       "      <td>In-store</td>\n",
       "      <td>Credit Card</td>\n",
       "      <td>Walter Muller</td>\n",
       "      <td>Berlin</td>\n",
       "    </tr>\n",
       "    <tr>\n",
       "      <th>4</th>\n",
       "      <td>10456</td>\n",
       "      <td>2022-11-08</td>\n",
       "      <td>Chicken Sandwiches</td>\n",
       "      <td>9.95</td>\n",
       "      <td>201.005025</td>\n",
       "      <td>In-store</td>\n",
       "      <td>Credit Card</td>\n",
       "      <td>Walter Muller</td>\n",
       "      <td>Berlin</td>\n",
       "    </tr>\n",
       "    <tr>\n",
       "      <th>...</th>\n",
       "      <td>...</td>\n",
       "      <td>...</td>\n",
       "      <td>...</td>\n",
       "      <td>...</td>\n",
       "      <td>...</td>\n",
       "      <td>...</td>\n",
       "      <td>...</td>\n",
       "      <td>...</td>\n",
       "      <td>...</td>\n",
       "    </tr>\n",
       "    <tr>\n",
       "      <th>249</th>\n",
       "      <td>10709</td>\n",
       "      <td>2022-12-28</td>\n",
       "      <td>Sides &amp; Other</td>\n",
       "      <td>4.99</td>\n",
       "      <td>200.400802</td>\n",
       "      <td>Drive-thru</td>\n",
       "      <td>Gift Card</td>\n",
       "      <td>Walter Muller</td>\n",
       "      <td>Berlin</td>\n",
       "    </tr>\n",
       "    <tr>\n",
       "      <th>250</th>\n",
       "      <td>10710</td>\n",
       "      <td>2022-12-29</td>\n",
       "      <td>Burgers</td>\n",
       "      <td>12.99</td>\n",
       "      <td>754.426482</td>\n",
       "      <td>Drive-thru</td>\n",
       "      <td>Gift Card</td>\n",
       "      <td>Walter Muller</td>\n",
       "      <td>Berlin</td>\n",
       "    </tr>\n",
       "    <tr>\n",
       "      <th>251</th>\n",
       "      <td>10711</td>\n",
       "      <td>2022-12-29</td>\n",
       "      <td>Chicken Sandwiches</td>\n",
       "      <td>9.95</td>\n",
       "      <td>281.407035</td>\n",
       "      <td>Drive-thru</td>\n",
       "      <td>Gift Card</td>\n",
       "      <td>Walter Muller</td>\n",
       "      <td>Berlin</td>\n",
       "    </tr>\n",
       "    <tr>\n",
       "      <th>252</th>\n",
       "      <td>10712</td>\n",
       "      <td>2022-12-29</td>\n",
       "      <td>Fries</td>\n",
       "      <td>3.49</td>\n",
       "      <td>630.372493</td>\n",
       "      <td>Drive-thru</td>\n",
       "      <td>Gift Card</td>\n",
       "      <td>Walter Muller</td>\n",
       "      <td>Berlin</td>\n",
       "    </tr>\n",
       "    <tr>\n",
       "      <th>253</th>\n",
       "      <td>10713</td>\n",
       "      <td>2022-12-29</td>\n",
       "      <td>Beverages</td>\n",
       "      <td>2.95</td>\n",
       "      <td>677.966102</td>\n",
       "      <td>Drive-thru</td>\n",
       "      <td>Gift Card</td>\n",
       "      <td>Walter Muller</td>\n",
       "      <td>Berlin</td>\n",
       "    </tr>\n",
       "  </tbody>\n",
       "</table>\n",
       "<p>254 rows × 9 columns</p>\n",
       "</div>"
      ],
      "text/plain": [
       "     Order ID       Date             Product  Price    Quantity Purchase Type  \\\n",
       "0       10452 2022-11-07               Fries   3.49  573.065903       Online    \n",
       "1       10453 2022-11-07           Beverages   2.95  745.762712       Online    \n",
       "2       10454 2022-11-07       Sides & Other   4.99  200.400802     In-store    \n",
       "3       10455 2022-11-08             Burgers  12.99  569.668976     In-store    \n",
       "4       10456 2022-11-08  Chicken Sandwiches   9.95  201.005025     In-store    \n",
       "..        ...        ...                 ...    ...         ...           ...   \n",
       "249     10709 2022-12-28       Sides & Other   4.99  200.400802   Drive-thru    \n",
       "250     10710 2022-12-29             Burgers  12.99  754.426482   Drive-thru    \n",
       "251     10711 2022-12-29  Chicken Sandwiches   9.95  281.407035   Drive-thru    \n",
       "252     10712 2022-12-29               Fries   3.49  630.372493   Drive-thru    \n",
       "253     10713 2022-12-29           Beverages   2.95  677.966102   Drive-thru    \n",
       "\n",
       "    Payment Method             Manager    City  \n",
       "0        Gift Card    Tom      Jackson  London  \n",
       "1        Gift Card         Pablo Perez  Madrid  \n",
       "2        Gift Card       Joao    Silva  Lisbon  \n",
       "3      Credit Card       Walter Muller  Berlin  \n",
       "4      Credit Card       Walter Muller  Berlin  \n",
       "..             ...                 ...     ...  \n",
       "249      Gift Card       Walter Muller  Berlin  \n",
       "250      Gift Card       Walter Muller  Berlin  \n",
       "251      Gift Card       Walter Muller  Berlin  \n",
       "252      Gift Card       Walter Muller  Berlin  \n",
       "253      Gift Card       Walter Muller  Berlin  \n",
       "\n",
       "[254 rows x 9 columns]"
      ]
     },
     "execution_count": 6,
     "metadata": {},
     "output_type": "execute_result"
    }
   ],
   "source": [
    "file=r\"C:\\Users\\vijay\\OneDrive\\Desktop\\EDA Datasets csv\\Sales-Data-Analysis.xlsx\"\n",
    "sales_df=pd.read_excel(file)\n",
    "sales_df"
   ]
  },
  {
   "cell_type": "code",
   "execution_count": 8,
   "id": "75c01afa-b4ba-4368-a2f7-067365b40a6a",
   "metadata": {},
   "outputs": [
    {
     "name": "stdout",
     "output_type": "stream",
     "text": [
      "<class 'pandas.core.frame.DataFrame'>\n",
      "RangeIndex: 254 entries, 0 to 253\n",
      "Data columns (total 9 columns):\n",
      " #   Column          Non-Null Count  Dtype         \n",
      "---  ------          --------------  -----         \n",
      " 0   Order ID        254 non-null    int64         \n",
      " 1   Date            254 non-null    datetime64[ns]\n",
      " 2   Product         254 non-null    object        \n",
      " 3   Price           254 non-null    float64       \n",
      " 4   Quantity        254 non-null    float64       \n",
      " 5   Purchase Type   254 non-null    object        \n",
      " 6   Payment Method  254 non-null    object        \n",
      " 7   Manager         254 non-null    object        \n",
      " 8   City            254 non-null    object        \n",
      "dtypes: datetime64[ns](1), float64(2), int64(1), object(5)\n",
      "memory usage: 18.0+ KB\n"
     ]
    }
   ],
   "source": [
    "sales_df.info()"
   ]
  },
  {
   "cell_type": "markdown",
   "id": "9faab5c9-dbd5-4c1f-b9e0-d895556b91fe",
   "metadata": {},
   "source": [
    "- if column names has a under the index '1 ' simply change"
   ]
  },
  {
   "cell_type": "code",
   "execution_count": 13,
   "id": "d56b982b-8a37-404b-9b76-cdd1aa68febc",
   "metadata": {},
   "outputs": [
    {
     "data": {
      "text/plain": [
       "Order ID                        10452\n",
       "Date              2022-11-07 00:00:00\n",
       "Product                         Fries\n",
       "Price                            3.49\n",
       "Quantity                   573.065903\n",
       "Purchase Type                 Online \n",
       "Payment Method              Gift Card\n",
       "Manager              Tom      Jackson\n",
       "City                           London\n",
       "Name: 0, dtype: object"
      ]
     },
     "execution_count": 13,
     "metadata": {},
     "output_type": "execute_result"
    }
   ],
   "source": [
    "sales_df.loc[0]"
   ]
  },
  {
   "cell_type": "code",
   "execution_count": 15,
   "id": "95603381-d2bd-4b41-99ed-1fc2bb6e0f01",
   "metadata": {},
   "outputs": [
    {
     "data": {
      "text/plain": [
       "0        Tom      Jackson\n",
       "1             Pablo Perez\n",
       "2           Joao    Silva\n",
       "3           Walter Muller\n",
       "4           Walter Muller\n",
       "              ...        \n",
       "249         Walter Muller\n",
       "250         Walter Muller\n",
       "251         Walter Muller\n",
       "252         Walter Muller\n",
       "253         Walter Muller\n",
       "Name: Manager, Length: 254, dtype: object"
      ]
     },
     "execution_count": 15,
     "metadata": {},
     "output_type": "execute_result"
    }
   ],
   "source": [
    "sales_df.Manager"
   ]
  },
  {
   "cell_type": "code",
   "execution_count": 19,
   "id": "3f98ac6b-26cf-424d-a95a-0e18c5fa7640",
   "metadata": {},
   "outputs": [
    {
     "data": {
      "text/plain": [
       "array(['Tom      Jackson', '       Pablo Perez', 'Joao    Silva',\n",
       "       'Walter Muller', 'Remy    Monet', 'Remy Monet',\n",
       "       '       Remy Monet', 'Remy     Monet', 'Pablo Perez',\n",
       "       'Pablo   Perez', 'Pablo  Perez', 'Pablo    Perez', 'Joao Silva',\n",
       "       'Tom Jackson'], dtype=object)"
      ]
     },
     "execution_count": 19,
     "metadata": {},
     "output_type": "execute_result"
    }
   ],
   "source": [
    "sales_df.Manager.unique()"
   ]
  },
  {
   "cell_type": "code",
   "execution_count": 21,
   "id": "0e182bdc-1c3d-43a4-b25f-3b44f174ff2d",
   "metadata": {},
   "outputs": [],
   "source": [
    "sales_df['Manager']=sales_df['Manager'].str.strip().str.replace(r'\\s+',' ',regex=True)\n"
   ]
  },
  {
   "cell_type": "code",
   "execution_count": 23,
   "id": "5326f6ec-e2d7-4ffe-94d0-73d0cc5377d9",
   "metadata": {},
   "outputs": [
    {
     "data": {
      "text/html": [
       "<div>\n",
       "<style scoped>\n",
       "    .dataframe tbody tr th:only-of-type {\n",
       "        vertical-align: middle;\n",
       "    }\n",
       "\n",
       "    .dataframe tbody tr th {\n",
       "        vertical-align: top;\n",
       "    }\n",
       "\n",
       "    .dataframe thead th {\n",
       "        text-align: right;\n",
       "    }\n",
       "</style>\n",
       "<table border=\"1\" class=\"dataframe\">\n",
       "  <thead>\n",
       "    <tr style=\"text-align: right;\">\n",
       "      <th></th>\n",
       "      <th>Order ID</th>\n",
       "      <th>Date</th>\n",
       "      <th>Product</th>\n",
       "      <th>Price</th>\n",
       "      <th>Quantity</th>\n",
       "      <th>Purchase Type</th>\n",
       "      <th>Payment Method</th>\n",
       "      <th>Manager</th>\n",
       "      <th>City</th>\n",
       "    </tr>\n",
       "  </thead>\n",
       "  <tbody>\n",
       "    <tr>\n",
       "      <th>0</th>\n",
       "      <td>10452</td>\n",
       "      <td>2022-11-07</td>\n",
       "      <td>Fries</td>\n",
       "      <td>3.49</td>\n",
       "      <td>573.065903</td>\n",
       "      <td>Online</td>\n",
       "      <td>Gift Card</td>\n",
       "      <td>Tom Jackson</td>\n",
       "      <td>London</td>\n",
       "    </tr>\n",
       "    <tr>\n",
       "      <th>1</th>\n",
       "      <td>10453</td>\n",
       "      <td>2022-11-07</td>\n",
       "      <td>Beverages</td>\n",
       "      <td>2.95</td>\n",
       "      <td>745.762712</td>\n",
       "      <td>Online</td>\n",
       "      <td>Gift Card</td>\n",
       "      <td>Pablo Perez</td>\n",
       "      <td>Madrid</td>\n",
       "    </tr>\n",
       "    <tr>\n",
       "      <th>2</th>\n",
       "      <td>10454</td>\n",
       "      <td>2022-11-07</td>\n",
       "      <td>Sides &amp; Other</td>\n",
       "      <td>4.99</td>\n",
       "      <td>200.400802</td>\n",
       "      <td>In-store</td>\n",
       "      <td>Gift Card</td>\n",
       "      <td>Joao Silva</td>\n",
       "      <td>Lisbon</td>\n",
       "    </tr>\n",
       "    <tr>\n",
       "      <th>3</th>\n",
       "      <td>10455</td>\n",
       "      <td>2022-11-08</td>\n",
       "      <td>Burgers</td>\n",
       "      <td>12.99</td>\n",
       "      <td>569.668976</td>\n",
       "      <td>In-store</td>\n",
       "      <td>Credit Card</td>\n",
       "      <td>Walter Muller</td>\n",
       "      <td>Berlin</td>\n",
       "    </tr>\n",
       "    <tr>\n",
       "      <th>4</th>\n",
       "      <td>10456</td>\n",
       "      <td>2022-11-08</td>\n",
       "      <td>Chicken Sandwiches</td>\n",
       "      <td>9.95</td>\n",
       "      <td>201.005025</td>\n",
       "      <td>In-store</td>\n",
       "      <td>Credit Card</td>\n",
       "      <td>Walter Muller</td>\n",
       "      <td>Berlin</td>\n",
       "    </tr>\n",
       "    <tr>\n",
       "      <th>...</th>\n",
       "      <td>...</td>\n",
       "      <td>...</td>\n",
       "      <td>...</td>\n",
       "      <td>...</td>\n",
       "      <td>...</td>\n",
       "      <td>...</td>\n",
       "      <td>...</td>\n",
       "      <td>...</td>\n",
       "      <td>...</td>\n",
       "    </tr>\n",
       "    <tr>\n",
       "      <th>249</th>\n",
       "      <td>10709</td>\n",
       "      <td>2022-12-28</td>\n",
       "      <td>Sides &amp; Other</td>\n",
       "      <td>4.99</td>\n",
       "      <td>200.400802</td>\n",
       "      <td>Drive-thru</td>\n",
       "      <td>Gift Card</td>\n",
       "      <td>Walter Muller</td>\n",
       "      <td>Berlin</td>\n",
       "    </tr>\n",
       "    <tr>\n",
       "      <th>250</th>\n",
       "      <td>10710</td>\n",
       "      <td>2022-12-29</td>\n",
       "      <td>Burgers</td>\n",
       "      <td>12.99</td>\n",
       "      <td>754.426482</td>\n",
       "      <td>Drive-thru</td>\n",
       "      <td>Gift Card</td>\n",
       "      <td>Walter Muller</td>\n",
       "      <td>Berlin</td>\n",
       "    </tr>\n",
       "    <tr>\n",
       "      <th>251</th>\n",
       "      <td>10711</td>\n",
       "      <td>2022-12-29</td>\n",
       "      <td>Chicken Sandwiches</td>\n",
       "      <td>9.95</td>\n",
       "      <td>281.407035</td>\n",
       "      <td>Drive-thru</td>\n",
       "      <td>Gift Card</td>\n",
       "      <td>Walter Muller</td>\n",
       "      <td>Berlin</td>\n",
       "    </tr>\n",
       "    <tr>\n",
       "      <th>252</th>\n",
       "      <td>10712</td>\n",
       "      <td>2022-12-29</td>\n",
       "      <td>Fries</td>\n",
       "      <td>3.49</td>\n",
       "      <td>630.372493</td>\n",
       "      <td>Drive-thru</td>\n",
       "      <td>Gift Card</td>\n",
       "      <td>Walter Muller</td>\n",
       "      <td>Berlin</td>\n",
       "    </tr>\n",
       "    <tr>\n",
       "      <th>253</th>\n",
       "      <td>10713</td>\n",
       "      <td>2022-12-29</td>\n",
       "      <td>Beverages</td>\n",
       "      <td>2.95</td>\n",
       "      <td>677.966102</td>\n",
       "      <td>Drive-thru</td>\n",
       "      <td>Gift Card</td>\n",
       "      <td>Walter Muller</td>\n",
       "      <td>Berlin</td>\n",
       "    </tr>\n",
       "  </tbody>\n",
       "</table>\n",
       "<p>254 rows × 9 columns</p>\n",
       "</div>"
      ],
      "text/plain": [
       "     Order ID       Date             Product  Price    Quantity Purchase Type  \\\n",
       "0       10452 2022-11-07               Fries   3.49  573.065903       Online    \n",
       "1       10453 2022-11-07           Beverages   2.95  745.762712       Online    \n",
       "2       10454 2022-11-07       Sides & Other   4.99  200.400802     In-store    \n",
       "3       10455 2022-11-08             Burgers  12.99  569.668976     In-store    \n",
       "4       10456 2022-11-08  Chicken Sandwiches   9.95  201.005025     In-store    \n",
       "..        ...        ...                 ...    ...         ...           ...   \n",
       "249     10709 2022-12-28       Sides & Other   4.99  200.400802   Drive-thru    \n",
       "250     10710 2022-12-29             Burgers  12.99  754.426482   Drive-thru    \n",
       "251     10711 2022-12-29  Chicken Sandwiches   9.95  281.407035   Drive-thru    \n",
       "252     10712 2022-12-29               Fries   3.49  630.372493   Drive-thru    \n",
       "253     10713 2022-12-29           Beverages   2.95  677.966102   Drive-thru    \n",
       "\n",
       "    Payment Method        Manager    City  \n",
       "0        Gift Card    Tom Jackson  London  \n",
       "1        Gift Card    Pablo Perez  Madrid  \n",
       "2        Gift Card     Joao Silva  Lisbon  \n",
       "3      Credit Card  Walter Muller  Berlin  \n",
       "4      Credit Card  Walter Muller  Berlin  \n",
       "..             ...            ...     ...  \n",
       "249      Gift Card  Walter Muller  Berlin  \n",
       "250      Gift Card  Walter Muller  Berlin  \n",
       "251      Gift Card  Walter Muller  Berlin  \n",
       "252      Gift Card  Walter Muller  Berlin  \n",
       "253      Gift Card  Walter Muller  Berlin  \n",
       "\n",
       "[254 rows x 9 columns]"
      ]
     },
     "execution_count": 23,
     "metadata": {},
     "output_type": "execute_result"
    }
   ],
   "source": [
    "sales_df"
   ]
  },
  {
   "cell_type": "code",
   "execution_count": 25,
   "id": "789c4e13-b451-43d2-990c-cb464bf5651f",
   "metadata": {},
   "outputs": [
    {
     "data": {
      "text/plain": [
       "array(['Tom Jackson', 'Pablo Perez', 'Joao Silva', 'Walter Muller',\n",
       "       'Remy Monet'], dtype=object)"
      ]
     },
     "execution_count": 25,
     "metadata": {},
     "output_type": "execute_result"
    }
   ],
   "source": [
    "sales_df['Manager'].unique()"
   ]
  },
  {
   "cell_type": "code",
   "execution_count": 27,
   "id": "54cf0d40-41bf-4eb5-afbc-6c36f963a1d3",
   "metadata": {},
   "outputs": [
    {
     "data": {
      "text/html": [
       "<div>\n",
       "<style scoped>\n",
       "    .dataframe tbody tr th:only-of-type {\n",
       "        vertical-align: middle;\n",
       "    }\n",
       "\n",
       "    .dataframe tbody tr th {\n",
       "        vertical-align: top;\n",
       "    }\n",
       "\n",
       "    .dataframe thead th {\n",
       "        text-align: right;\n",
       "    }\n",
       "</style>\n",
       "<table border=\"1\" class=\"dataframe\">\n",
       "  <thead>\n",
       "    <tr style=\"text-align: right;\">\n",
       "      <th></th>\n",
       "      <th>Order ID</th>\n",
       "      <th>Date</th>\n",
       "      <th>Price</th>\n",
       "      <th>Quantity</th>\n",
       "    </tr>\n",
       "  </thead>\n",
       "  <tbody>\n",
       "    <tr>\n",
       "      <th>count</th>\n",
       "      <td>254.000000</td>\n",
       "      <td>254</td>\n",
       "      <td>254.000000</td>\n",
       "      <td>254.000000</td>\n",
       "    </tr>\n",
       "    <tr>\n",
       "      <th>mean</th>\n",
       "      <td>10584.133858</td>\n",
       "      <td>2022-12-03 10:23:37.322834688</td>\n",
       "      <td>7.102323</td>\n",
       "      <td>460.610541</td>\n",
       "    </tr>\n",
       "    <tr>\n",
       "      <th>min</th>\n",
       "      <td>10452.000000</td>\n",
       "      <td>2022-11-07 00:00:00</td>\n",
       "      <td>2.950000</td>\n",
       "      <td>200.400802</td>\n",
       "    </tr>\n",
       "    <tr>\n",
       "      <th>25%</th>\n",
       "      <td>10520.250000</td>\n",
       "      <td>2022-11-21 00:00:00</td>\n",
       "      <td>3.490000</td>\n",
       "      <td>201.005025</td>\n",
       "    </tr>\n",
       "    <tr>\n",
       "      <th>50%</th>\n",
       "      <td>10583.500000</td>\n",
       "      <td>2022-12-03 00:00:00</td>\n",
       "      <td>4.990000</td>\n",
       "      <td>538.876059</td>\n",
       "    </tr>\n",
       "    <tr>\n",
       "      <th>75%</th>\n",
       "      <td>10649.750000</td>\n",
       "      <td>2022-12-16 18:00:00</td>\n",
       "      <td>9.950000</td>\n",
       "      <td>677.444188</td>\n",
       "    </tr>\n",
       "    <tr>\n",
       "      <th>max</th>\n",
       "      <td>10713.000000</td>\n",
       "      <td>2022-12-29 00:00:00</td>\n",
       "      <td>29.050000</td>\n",
       "      <td>754.426482</td>\n",
       "    </tr>\n",
       "    <tr>\n",
       "      <th>std</th>\n",
       "      <td>75.889181</td>\n",
       "      <td>NaN</td>\n",
       "      <td>4.341855</td>\n",
       "      <td>214.889551</td>\n",
       "    </tr>\n",
       "  </tbody>\n",
       "</table>\n",
       "</div>"
      ],
      "text/plain": [
       "           Order ID                           Date       Price    Quantity\n",
       "count    254.000000                            254  254.000000  254.000000\n",
       "mean   10584.133858  2022-12-03 10:23:37.322834688    7.102323  460.610541\n",
       "min    10452.000000            2022-11-07 00:00:00    2.950000  200.400802\n",
       "25%    10520.250000            2022-11-21 00:00:00    3.490000  201.005025\n",
       "50%    10583.500000            2022-12-03 00:00:00    4.990000  538.876059\n",
       "75%    10649.750000            2022-12-16 18:00:00    9.950000  677.444188\n",
       "max    10713.000000            2022-12-29 00:00:00   29.050000  754.426482\n",
       "std       75.889181                            NaN    4.341855  214.889551"
      ]
     },
     "execution_count": 27,
     "metadata": {},
     "output_type": "execute_result"
    }
   ],
   "source": [
    "sales_df.describe()"
   ]
  },
  {
   "cell_type": "code",
   "execution_count": 33,
   "id": "34ac5f6b-afdb-4560-9c39-0077c0d2866e",
   "metadata": {},
   "outputs": [
    {
     "data": {
      "text/html": [
       "<div>\n",
       "<style scoped>\n",
       "    .dataframe tbody tr th:only-of-type {\n",
       "        vertical-align: middle;\n",
       "    }\n",
       "\n",
       "    .dataframe tbody tr th {\n",
       "        vertical-align: top;\n",
       "    }\n",
       "\n",
       "    .dataframe thead th {\n",
       "        text-align: right;\n",
       "    }\n",
       "</style>\n",
       "<table border=\"1\" class=\"dataframe\">\n",
       "  <thead>\n",
       "    <tr style=\"text-align: right;\">\n",
       "      <th></th>\n",
       "      <th>Order ID</th>\n",
       "      <th>Date</th>\n",
       "      <th>Product</th>\n",
       "      <th>Price</th>\n",
       "      <th>Quantity</th>\n",
       "      <th>Purchase Type</th>\n",
       "      <th>Payment Method</th>\n",
       "      <th>Manager</th>\n",
       "      <th>City</th>\n",
       "    </tr>\n",
       "  </thead>\n",
       "  <tbody>\n",
       "  </tbody>\n",
       "</table>\n",
       "</div>"
      ],
      "text/plain": [
       "Empty DataFrame\n",
       "Columns: [Order ID, Date, Product, Price, Quantity, Purchase Type, Payment Method, Manager, City]\n",
       "Index: []"
      ]
     },
     "execution_count": 33,
     "metadata": {},
     "output_type": "execute_result"
    }
   ],
   "source": [
    "sales_df[sales_df.duplicated()]   # to show the duplicate rows "
   ]
  },
  {
   "cell_type": "code",
   "execution_count": 39,
   "id": "c8e8288f-ea7a-40df-a950-fea84d4c1700",
   "metadata": {},
   "outputs": [],
   "source": [
    "sales_df.drop_duplicates(inplace=True)"
   ]
  },
  {
   "cell_type": "code",
   "execution_count": 43,
   "id": "edbca124-506e-4798-a30f-d4f7f4b32bc3",
   "metadata": {},
   "outputs": [
    {
     "data": {
      "text/html": [
       "<div>\n",
       "<style scoped>\n",
       "    .dataframe tbody tr th:only-of-type {\n",
       "        vertical-align: middle;\n",
       "    }\n",
       "\n",
       "    .dataframe tbody tr th {\n",
       "        vertical-align: top;\n",
       "    }\n",
       "\n",
       "    .dataframe thead th {\n",
       "        text-align: right;\n",
       "    }\n",
       "</style>\n",
       "<table border=\"1\" class=\"dataframe\">\n",
       "  <thead>\n",
       "    <tr style=\"text-align: right;\">\n",
       "      <th></th>\n",
       "      <th>Order ID</th>\n",
       "      <th>Date</th>\n",
       "      <th>Product</th>\n",
       "      <th>Price</th>\n",
       "      <th>Quantity</th>\n",
       "      <th>Purchase Type</th>\n",
       "      <th>Payment Method</th>\n",
       "      <th>Manager</th>\n",
       "      <th>City</th>\n",
       "    </tr>\n",
       "  </thead>\n",
       "  <tbody>\n",
       "  </tbody>\n",
       "</table>\n",
       "</div>"
      ],
      "text/plain": [
       "Empty DataFrame\n",
       "Columns: [Order ID, Date, Product, Price, Quantity, Purchase Type, Payment Method, Manager, City]\n",
       "Index: []"
      ]
     },
     "execution_count": 43,
     "metadata": {},
     "output_type": "execute_result"
    }
   ],
   "source": [
    "sales_df[sales_df.duplicated()]"
   ]
  },
  {
   "cell_type": "code",
   "execution_count": 45,
   "id": "a2d6477b-9e1b-485c-a897-68d4075c5713",
   "metadata": {},
   "outputs": [],
   "source": [
    "sales_df['Date']=pd.to_datetime(sales_df['Date'])"
   ]
  },
  {
   "cell_type": "code",
   "execution_count": 47,
   "id": "7e08ee08-d50a-49bf-a4b1-d8c6fcaa2237",
   "metadata": {},
   "outputs": [
    {
     "name": "stdout",
     "output_type": "stream",
     "text": [
      "<class 'pandas.core.frame.DataFrame'>\n",
      "RangeIndex: 254 entries, 0 to 253\n",
      "Data columns (total 9 columns):\n",
      " #   Column          Non-Null Count  Dtype         \n",
      "---  ------          --------------  -----         \n",
      " 0   Order ID        254 non-null    int64         \n",
      " 1   Date            254 non-null    datetime64[ns]\n",
      " 2   Product         254 non-null    object        \n",
      " 3   Price           254 non-null    float64       \n",
      " 4   Quantity        254 non-null    float64       \n",
      " 5   Purchase Type   254 non-null    object        \n",
      " 6   Payment Method  254 non-null    object        \n",
      " 7   Manager         254 non-null    object        \n",
      " 8   City            254 non-null    object        \n",
      "dtypes: datetime64[ns](1), float64(2), int64(1), object(5)\n",
      "memory usage: 18.0+ KB\n"
     ]
    }
   ],
   "source": [
    "sales_df.info()"
   ]
  },
  {
   "cell_type": "code",
   "execution_count": 49,
   "id": "5bda9faf-e41c-40e6-924e-3437e74b912e",
   "metadata": {},
   "outputs": [],
   "source": [
    "sales_df['Year']=sales_df['Date'].dt.year"
   ]
  },
  {
   "cell_type": "code",
   "execution_count": 51,
   "id": "2637993d-5fff-435b-869f-1287bf439a0a",
   "metadata": {
    "scrolled": true
   },
   "outputs": [
    {
     "data": {
      "text/html": [
       "<div>\n",
       "<style scoped>\n",
       "    .dataframe tbody tr th:only-of-type {\n",
       "        vertical-align: middle;\n",
       "    }\n",
       "\n",
       "    .dataframe tbody tr th {\n",
       "        vertical-align: top;\n",
       "    }\n",
       "\n",
       "    .dataframe thead th {\n",
       "        text-align: right;\n",
       "    }\n",
       "</style>\n",
       "<table border=\"1\" class=\"dataframe\">\n",
       "  <thead>\n",
       "    <tr style=\"text-align: right;\">\n",
       "      <th></th>\n",
       "      <th>Order ID</th>\n",
       "      <th>Date</th>\n",
       "      <th>Product</th>\n",
       "      <th>Price</th>\n",
       "      <th>Quantity</th>\n",
       "      <th>Purchase Type</th>\n",
       "      <th>Payment Method</th>\n",
       "      <th>Manager</th>\n",
       "      <th>City</th>\n",
       "      <th>Year</th>\n",
       "    </tr>\n",
       "  </thead>\n",
       "  <tbody>\n",
       "    <tr>\n",
       "      <th>0</th>\n",
       "      <td>10452</td>\n",
       "      <td>2022-11-07</td>\n",
       "      <td>Fries</td>\n",
       "      <td>3.49</td>\n",
       "      <td>573.065903</td>\n",
       "      <td>Online</td>\n",
       "      <td>Gift Card</td>\n",
       "      <td>Tom Jackson</td>\n",
       "      <td>London</td>\n",
       "      <td>2022</td>\n",
       "    </tr>\n",
       "    <tr>\n",
       "      <th>1</th>\n",
       "      <td>10453</td>\n",
       "      <td>2022-11-07</td>\n",
       "      <td>Beverages</td>\n",
       "      <td>2.95</td>\n",
       "      <td>745.762712</td>\n",
       "      <td>Online</td>\n",
       "      <td>Gift Card</td>\n",
       "      <td>Pablo Perez</td>\n",
       "      <td>Madrid</td>\n",
       "      <td>2022</td>\n",
       "    </tr>\n",
       "    <tr>\n",
       "      <th>2</th>\n",
       "      <td>10454</td>\n",
       "      <td>2022-11-07</td>\n",
       "      <td>Sides &amp; Other</td>\n",
       "      <td>4.99</td>\n",
       "      <td>200.400802</td>\n",
       "      <td>In-store</td>\n",
       "      <td>Gift Card</td>\n",
       "      <td>Joao Silva</td>\n",
       "      <td>Lisbon</td>\n",
       "      <td>2022</td>\n",
       "    </tr>\n",
       "    <tr>\n",
       "      <th>3</th>\n",
       "      <td>10455</td>\n",
       "      <td>2022-11-08</td>\n",
       "      <td>Burgers</td>\n",
       "      <td>12.99</td>\n",
       "      <td>569.668976</td>\n",
       "      <td>In-store</td>\n",
       "      <td>Credit Card</td>\n",
       "      <td>Walter Muller</td>\n",
       "      <td>Berlin</td>\n",
       "      <td>2022</td>\n",
       "    </tr>\n",
       "    <tr>\n",
       "      <th>4</th>\n",
       "      <td>10456</td>\n",
       "      <td>2022-11-08</td>\n",
       "      <td>Chicken Sandwiches</td>\n",
       "      <td>9.95</td>\n",
       "      <td>201.005025</td>\n",
       "      <td>In-store</td>\n",
       "      <td>Credit Card</td>\n",
       "      <td>Walter Muller</td>\n",
       "      <td>Berlin</td>\n",
       "      <td>2022</td>\n",
       "    </tr>\n",
       "    <tr>\n",
       "      <th>...</th>\n",
       "      <td>...</td>\n",
       "      <td>...</td>\n",
       "      <td>...</td>\n",
       "      <td>...</td>\n",
       "      <td>...</td>\n",
       "      <td>...</td>\n",
       "      <td>...</td>\n",
       "      <td>...</td>\n",
       "      <td>...</td>\n",
       "      <td>...</td>\n",
       "    </tr>\n",
       "    <tr>\n",
       "      <th>249</th>\n",
       "      <td>10709</td>\n",
       "      <td>2022-12-28</td>\n",
       "      <td>Sides &amp; Other</td>\n",
       "      <td>4.99</td>\n",
       "      <td>200.400802</td>\n",
       "      <td>Drive-thru</td>\n",
       "      <td>Gift Card</td>\n",
       "      <td>Walter Muller</td>\n",
       "      <td>Berlin</td>\n",
       "      <td>2022</td>\n",
       "    </tr>\n",
       "    <tr>\n",
       "      <th>250</th>\n",
       "      <td>10710</td>\n",
       "      <td>2022-12-29</td>\n",
       "      <td>Burgers</td>\n",
       "      <td>12.99</td>\n",
       "      <td>754.426482</td>\n",
       "      <td>Drive-thru</td>\n",
       "      <td>Gift Card</td>\n",
       "      <td>Walter Muller</td>\n",
       "      <td>Berlin</td>\n",
       "      <td>2022</td>\n",
       "    </tr>\n",
       "    <tr>\n",
       "      <th>251</th>\n",
       "      <td>10711</td>\n",
       "      <td>2022-12-29</td>\n",
       "      <td>Chicken Sandwiches</td>\n",
       "      <td>9.95</td>\n",
       "      <td>281.407035</td>\n",
       "      <td>Drive-thru</td>\n",
       "      <td>Gift Card</td>\n",
       "      <td>Walter Muller</td>\n",
       "      <td>Berlin</td>\n",
       "      <td>2022</td>\n",
       "    </tr>\n",
       "    <tr>\n",
       "      <th>252</th>\n",
       "      <td>10712</td>\n",
       "      <td>2022-12-29</td>\n",
       "      <td>Fries</td>\n",
       "      <td>3.49</td>\n",
       "      <td>630.372493</td>\n",
       "      <td>Drive-thru</td>\n",
       "      <td>Gift Card</td>\n",
       "      <td>Walter Muller</td>\n",
       "      <td>Berlin</td>\n",
       "      <td>2022</td>\n",
       "    </tr>\n",
       "    <tr>\n",
       "      <th>253</th>\n",
       "      <td>10713</td>\n",
       "      <td>2022-12-29</td>\n",
       "      <td>Beverages</td>\n",
       "      <td>2.95</td>\n",
       "      <td>677.966102</td>\n",
       "      <td>Drive-thru</td>\n",
       "      <td>Gift Card</td>\n",
       "      <td>Walter Muller</td>\n",
       "      <td>Berlin</td>\n",
       "      <td>2022</td>\n",
       "    </tr>\n",
       "  </tbody>\n",
       "</table>\n",
       "<p>254 rows × 10 columns</p>\n",
       "</div>"
      ],
      "text/plain": [
       "     Order ID       Date             Product  Price    Quantity Purchase Type  \\\n",
       "0       10452 2022-11-07               Fries   3.49  573.065903       Online    \n",
       "1       10453 2022-11-07           Beverages   2.95  745.762712       Online    \n",
       "2       10454 2022-11-07       Sides & Other   4.99  200.400802     In-store    \n",
       "3       10455 2022-11-08             Burgers  12.99  569.668976     In-store    \n",
       "4       10456 2022-11-08  Chicken Sandwiches   9.95  201.005025     In-store    \n",
       "..        ...        ...                 ...    ...         ...           ...   \n",
       "249     10709 2022-12-28       Sides & Other   4.99  200.400802   Drive-thru    \n",
       "250     10710 2022-12-29             Burgers  12.99  754.426482   Drive-thru    \n",
       "251     10711 2022-12-29  Chicken Sandwiches   9.95  281.407035   Drive-thru    \n",
       "252     10712 2022-12-29               Fries   3.49  630.372493   Drive-thru    \n",
       "253     10713 2022-12-29           Beverages   2.95  677.966102   Drive-thru    \n",
       "\n",
       "    Payment Method        Manager    City  Year  \n",
       "0        Gift Card    Tom Jackson  London  2022  \n",
       "1        Gift Card    Pablo Perez  Madrid  2022  \n",
       "2        Gift Card     Joao Silva  Lisbon  2022  \n",
       "3      Credit Card  Walter Muller  Berlin  2022  \n",
       "4      Credit Card  Walter Muller  Berlin  2022  \n",
       "..             ...            ...     ...   ...  \n",
       "249      Gift Card  Walter Muller  Berlin  2022  \n",
       "250      Gift Card  Walter Muller  Berlin  2022  \n",
       "251      Gift Card  Walter Muller  Berlin  2022  \n",
       "252      Gift Card  Walter Muller  Berlin  2022  \n",
       "253      Gift Card  Walter Muller  Berlin  2022  \n",
       "\n",
       "[254 rows x 10 columns]"
      ]
     },
     "execution_count": 51,
     "metadata": {},
     "output_type": "execute_result"
    }
   ],
   "source": [
    "sales_df"
   ]
  },
  {
   "cell_type": "code",
   "execution_count": 55,
   "id": "f6fe53fc-9fce-4fb6-8281-77b852698c1e",
   "metadata": {},
   "outputs": [
    {
     "data": {
      "text/html": [
       "<div>\n",
       "<style scoped>\n",
       "    .dataframe tbody tr th:only-of-type {\n",
       "        vertical-align: middle;\n",
       "    }\n",
       "\n",
       "    .dataframe tbody tr th {\n",
       "        vertical-align: top;\n",
       "    }\n",
       "\n",
       "    .dataframe thead th {\n",
       "        text-align: right;\n",
       "    }\n",
       "</style>\n",
       "<table border=\"1\" class=\"dataframe\">\n",
       "  <thead>\n",
       "    <tr style=\"text-align: right;\">\n",
       "      <th></th>\n",
       "      <th>Order ID</th>\n",
       "      <th>Date</th>\n",
       "      <th>Product</th>\n",
       "      <th>Price</th>\n",
       "      <th>Quantity</th>\n",
       "      <th>Purchase Type</th>\n",
       "      <th>Payment Method</th>\n",
       "      <th>Manager</th>\n",
       "      <th>City</th>\n",
       "      <th>Year</th>\n",
       "    </tr>\n",
       "  </thead>\n",
       "  <tbody>\n",
       "  </tbody>\n",
       "</table>\n",
       "</div>"
      ],
      "text/plain": [
       "Empty DataFrame\n",
       "Columns: [Order ID, Date, Product, Price, Quantity, Purchase Type, Payment Method, Manager, City, Year]\n",
       "Index: []"
      ]
     },
     "execution_count": 55,
     "metadata": {},
     "output_type": "execute_result"
    }
   ],
   "source": [
    "sales_df[sales_df['Order ID'].duplicated()]"
   ]
  },
  {
   "cell_type": "code",
   "execution_count": 57,
   "id": "bd409c16-fea1-4dd0-a19d-ede0685f1bbd",
   "metadata": {},
   "outputs": [
    {
     "name": "stdout",
     "output_type": "stream",
     "text": [
      "<class 'pandas.core.frame.DataFrame'>\n",
      "RangeIndex: 254 entries, 0 to 253\n",
      "Data columns (total 10 columns):\n",
      " #   Column          Non-Null Count  Dtype         \n",
      "---  ------          --------------  -----         \n",
      " 0   Order ID        254 non-null    int64         \n",
      " 1   Date            254 non-null    datetime64[ns]\n",
      " 2   Product         254 non-null    object        \n",
      " 3   Price           254 non-null    float64       \n",
      " 4   Quantity        254 non-null    float64       \n",
      " 5   Purchase Type   254 non-null    object        \n",
      " 6   Payment Method  254 non-null    object        \n",
      " 7   Manager         254 non-null    object        \n",
      " 8   City            254 non-null    object        \n",
      " 9   Year            254 non-null    int32         \n",
      "dtypes: datetime64[ns](1), float64(2), int32(1), int64(1), object(5)\n",
      "memory usage: 19.0+ KB\n"
     ]
    }
   ],
   "source": [
    "sales_df.info()"
   ]
  },
  {
   "cell_type": "markdown",
   "id": "dd0e739f-b6dd-4200-b502-9393c99b6b1d",
   "metadata": {},
   "source": [
    "## Analyzing the data "
   ]
  },
  {
   "cell_type": "code",
   "execution_count": 60,
   "id": "533ecf05-b625-4ba0-b590-c4c0c96a6e17",
   "metadata": {},
   "outputs": [
    {
     "data": {
      "text/html": [
       "<div>\n",
       "<style scoped>\n",
       "    .dataframe tbody tr th:only-of-type {\n",
       "        vertical-align: middle;\n",
       "    }\n",
       "\n",
       "    .dataframe tbody tr th {\n",
       "        vertical-align: top;\n",
       "    }\n",
       "\n",
       "    .dataframe thead th {\n",
       "        text-align: right;\n",
       "    }\n",
       "</style>\n",
       "<table border=\"1\" class=\"dataframe\">\n",
       "  <thead>\n",
       "    <tr style=\"text-align: right;\">\n",
       "      <th></th>\n",
       "      <th>Order ID</th>\n",
       "      <th>Date</th>\n",
       "      <th>Product</th>\n",
       "      <th>Price</th>\n",
       "      <th>Quantity</th>\n",
       "      <th>Purchase Type</th>\n",
       "      <th>Payment Method</th>\n",
       "      <th>Manager</th>\n",
       "      <th>City</th>\n",
       "      <th>Year</th>\n",
       "    </tr>\n",
       "  </thead>\n",
       "  <tbody>\n",
       "    <tr>\n",
       "      <th>0</th>\n",
       "      <td>10452</td>\n",
       "      <td>2022-11-07</td>\n",
       "      <td>Fries</td>\n",
       "      <td>3.49</td>\n",
       "      <td>573.065903</td>\n",
       "      <td>Online</td>\n",
       "      <td>Gift Card</td>\n",
       "      <td>Tom Jackson</td>\n",
       "      <td>London</td>\n",
       "      <td>2022</td>\n",
       "    </tr>\n",
       "    <tr>\n",
       "      <th>1</th>\n",
       "      <td>10453</td>\n",
       "      <td>2022-11-07</td>\n",
       "      <td>Beverages</td>\n",
       "      <td>2.95</td>\n",
       "      <td>745.762712</td>\n",
       "      <td>Online</td>\n",
       "      <td>Gift Card</td>\n",
       "      <td>Pablo Perez</td>\n",
       "      <td>Madrid</td>\n",
       "      <td>2022</td>\n",
       "    </tr>\n",
       "    <tr>\n",
       "      <th>2</th>\n",
       "      <td>10454</td>\n",
       "      <td>2022-11-07</td>\n",
       "      <td>Sides &amp; Other</td>\n",
       "      <td>4.99</td>\n",
       "      <td>200.400802</td>\n",
       "      <td>In-store</td>\n",
       "      <td>Gift Card</td>\n",
       "      <td>Joao Silva</td>\n",
       "      <td>Lisbon</td>\n",
       "      <td>2022</td>\n",
       "    </tr>\n",
       "  </tbody>\n",
       "</table>\n",
       "</div>"
      ],
      "text/plain": [
       "   Order ID       Date        Product  Price    Quantity Purchase Type  \\\n",
       "0     10452 2022-11-07          Fries   3.49  573.065903       Online    \n",
       "1     10453 2022-11-07      Beverages   2.95  745.762712       Online    \n",
       "2     10454 2022-11-07  Sides & Other   4.99  200.400802     In-store    \n",
       "\n",
       "  Payment Method      Manager    City  Year  \n",
       "0      Gift Card  Tom Jackson  London  2022  \n",
       "1      Gift Card  Pablo Perez  Madrid  2022  \n",
       "2      Gift Card   Joao Silva  Lisbon  2022  "
      ]
     },
     "execution_count": 60,
     "metadata": {},
     "output_type": "execute_result"
    }
   ],
   "source": [
    "sales_df.head(3)"
   ]
  },
  {
   "cell_type": "markdown",
   "id": "f1d638a9-03fe-4e7b-81ce-fc7ff8f8dc23",
   "metadata": {},
   "source": [
    "- Q.1), most preferred Payment Method?"
   ]
  },
  {
   "cell_type": "code",
   "execution_count": 71,
   "id": "bd406413-a9b9-45eb-861e-8a52b2883f79",
   "metadata": {},
   "outputs": [
    {
     "data": {
      "text/plain": [
       "array([' Gift Card', ' Credit Card', ' Cash'], dtype=object)"
      ]
     },
     "execution_count": 71,
     "metadata": {},
     "output_type": "execute_result"
    }
   ],
   "source": [
    "sales_df['Payment Method'].unique()"
   ]
  },
  {
   "cell_type": "code",
   "execution_count": 81,
   "id": "c3d0ecdb-c9d9-439f-bf6f-16e59270873f",
   "metadata": {},
   "outputs": [
    {
     "data": {
      "text/plain": [
       "' Credit Card'"
      ]
     },
     "execution_count": 81,
     "metadata": {},
     "output_type": "execute_result"
    }
   ],
   "source": [
    "sales_df['Payment Method'].value_counts().idxmax()"
   ]
  },
  {
   "cell_type": "code",
   "execution_count": 85,
   "id": "a74ddeda-a35b-4bae-a0fe-32a78c3dac2a",
   "metadata": {},
   "outputs": [
    {
     "data": {
      "text/plain": [
       "Payment Method\n",
       "Credit Card    47.244094\n",
       "Cash           29.921260\n",
       "Gift Card      22.834646\n",
       "Name: proportion, dtype: float64"
      ]
     },
     "execution_count": 85,
     "metadata": {},
     "output_type": "execute_result"
    }
   ],
   "source": [
    "sales_df['Payment Method'].value_counts(normalize=True)*100"
   ]
  },
  {
   "cell_type": "code",
   "execution_count": 89,
   "id": "f5a8284b-a9d8-4aa6-8640-d1e1b57fc154",
   "metadata": {},
   "outputs": [
    {
     "data": {
      "text/plain": [
       "<Axes: xlabel='Payment Method'>"
      ]
     },
     "execution_count": 89,
     "metadata": {},
     "output_type": "execute_result"
    },
    {
     "data": {
      "image/png": "[encoded data removed]",
      "text/plain": [
       "<Figure size 640x480 with 1 Axes>"
      ]
     },
     "metadata": {},
     "output_type": "display_data"
    }
   ],
   "source": [
    "sales_df['Payment Method'].value_counts().plot(kind='bar')"
   ]
  },
  {
   "cell_type": "code",
   "execution_count": 91,
   "id": "db4ee065-4788-439f-b115-b6a29c729c5f",
   "metadata": {},
   "outputs": [
    {
     "data": {
      "image/png": "[encoded data removed]",
      "text/plain": [
       "<Figure size 640x480 with 1 Axes>"
      ]
     },
     "metadata": {},
     "output_type": "display_data"
    },
    {
     "data": {
      "text/plain": [
       "<Figure size 1000x500 with 0 Axes>"
      ]
     },
     "metadata": {},
     "output_type": "display_data"
    }
   ],
   "source": [
    "keys=sales_df['Payment Method'].value_counts().keys()\n",
    "values=sales_df['Payment Method'].value_counts().values\n",
    "plt.bar(keys,values)\n",
    "plt.figure(figsize=(10,5))\n",
    "plt.show()"
   ]
  },
  {
   "cell_type": "markdown",
   "id": "9b52b668-daf3-4cd7-a74b-fb6c65a5fe13",
   "metadata": {},
   "source": [
    "## Q.2) Most Selling Product?"
   ]
  },
  {
   "cell_type": "markdown",
   "id": "7396b402-25c8-47ce-b6ac-7ceae3840116",
   "metadata": {},
   "source": [
    "- By Quantity\n",
    "- By Revenue"
   ]
  },
  {
   "cell_type": "markdown",
   "id": "eff52346-dd12-490f-bf49-469ddeb40ac5",
   "metadata": {},
   "source": [
    "## By Quantity"
   ]
  },
  {
   "cell_type": "code",
   "execution_count": 97,
   "id": "60ebe6d4-4623-4fc5-bea4-e97bf01b908b",
   "metadata": {},
   "outputs": [
    {
     "data": {
      "text/html": [
       "<div>\n",
       "<style scoped>\n",
       "    .dataframe tbody tr th:only-of-type {\n",
       "        vertical-align: middle;\n",
       "    }\n",
       "\n",
       "    .dataframe tbody tr th {\n",
       "        vertical-align: top;\n",
       "    }\n",
       "\n",
       "    .dataframe thead th {\n",
       "        text-align: right;\n",
       "    }\n",
       "</style>\n",
       "<table border=\"1\" class=\"dataframe\">\n",
       "  <thead>\n",
       "    <tr style=\"text-align: right;\">\n",
       "      <th></th>\n",
       "      <th>Order ID</th>\n",
       "      <th>Date</th>\n",
       "      <th>Product</th>\n",
       "      <th>Price</th>\n",
       "      <th>Quantity</th>\n",
       "      <th>Purchase Type</th>\n",
       "      <th>Payment Method</th>\n",
       "      <th>Manager</th>\n",
       "      <th>City</th>\n",
       "      <th>Year</th>\n",
       "    </tr>\n",
       "  </thead>\n",
       "  <tbody>\n",
       "    <tr>\n",
       "      <th>0</th>\n",
       "      <td>10452</td>\n",
       "      <td>2022-11-07</td>\n",
       "      <td>Fries</td>\n",
       "      <td>3.49</td>\n",
       "      <td>573.065903</td>\n",
       "      <td>Online</td>\n",
       "      <td>Gift Card</td>\n",
       "      <td>Tom Jackson</td>\n",
       "      <td>London</td>\n",
       "      <td>2022</td>\n",
       "    </tr>\n",
       "    <tr>\n",
       "      <th>1</th>\n",
       "      <td>10453</td>\n",
       "      <td>2022-11-07</td>\n",
       "      <td>Beverages</td>\n",
       "      <td>2.95</td>\n",
       "      <td>745.762712</td>\n",
       "      <td>Online</td>\n",
       "      <td>Gift Card</td>\n",
       "      <td>Pablo Perez</td>\n",
       "      <td>Madrid</td>\n",
       "      <td>2022</td>\n",
       "    </tr>\n",
       "    <tr>\n",
       "      <th>2</th>\n",
       "      <td>10454</td>\n",
       "      <td>2022-11-07</td>\n",
       "      <td>Sides &amp; Other</td>\n",
       "      <td>4.99</td>\n",
       "      <td>200.400802</td>\n",
       "      <td>In-store</td>\n",
       "      <td>Gift Card</td>\n",
       "      <td>Joao Silva</td>\n",
       "      <td>Lisbon</td>\n",
       "      <td>2022</td>\n",
       "    </tr>\n",
       "    <tr>\n",
       "      <th>3</th>\n",
       "      <td>10455</td>\n",
       "      <td>2022-11-08</td>\n",
       "      <td>Burgers</td>\n",
       "      <td>12.99</td>\n",
       "      <td>569.668976</td>\n",
       "      <td>In-store</td>\n",
       "      <td>Credit Card</td>\n",
       "      <td>Walter Muller</td>\n",
       "      <td>Berlin</td>\n",
       "      <td>2022</td>\n",
       "    </tr>\n",
       "    <tr>\n",
       "      <th>4</th>\n",
       "      <td>10456</td>\n",
       "      <td>2022-11-08</td>\n",
       "      <td>Chicken Sandwiches</td>\n",
       "      <td>9.95</td>\n",
       "      <td>201.005025</td>\n",
       "      <td>In-store</td>\n",
       "      <td>Credit Card</td>\n",
       "      <td>Walter Muller</td>\n",
       "      <td>Berlin</td>\n",
       "      <td>2022</td>\n",
       "    </tr>\n",
       "  </tbody>\n",
       "</table>\n",
       "</div>"
      ],
      "text/plain": [
       "   Order ID       Date             Product  Price    Quantity Purchase Type  \\\n",
       "0     10452 2022-11-07               Fries   3.49  573.065903       Online    \n",
       "1     10453 2022-11-07           Beverages   2.95  745.762712       Online    \n",
       "2     10454 2022-11-07       Sides & Other   4.99  200.400802     In-store    \n",
       "3     10455 2022-11-08             Burgers  12.99  569.668976     In-store    \n",
       "4     10456 2022-11-08  Chicken Sandwiches   9.95  201.005025     In-store    \n",
       "\n",
       "  Payment Method        Manager    City  Year  \n",
       "0      Gift Card    Tom Jackson  London  2022  \n",
       "1      Gift Card    Pablo Perez  Madrid  2022  \n",
       "2      Gift Card     Joao Silva  Lisbon  2022  \n",
       "3    Credit Card  Walter Muller  Berlin  2022  \n",
       "4    Credit Card  Walter Muller  Berlin  2022  "
      ]
     },
     "execution_count": 97,
     "metadata": {},
     "output_type": "execute_result"
    }
   ],
   "source": [
    "sales_df.head()"
   ]
  },
  {
   "cell_type": "code",
   "execution_count": 107,
   "id": "3ae4f37b-ca48-4ec8-a7bc-17ce6643c890",
   "metadata": {},
   "outputs": [
    {
     "data": {
      "text/plain": [
       "200.4008016032064"
      ]
     },
     "execution_count": 107,
     "metadata": {},
     "output_type": "execute_result"
    }
   ],
   "source": [
    "sales_df['Quantity'].value_counts().idxmax()"
   ]
  },
  {
   "cell_type": "code",
   "execution_count": 109,
   "id": "ae82eb76-b67d-4a54-b522-abd3dc3f40c8",
   "metadata": {},
   "outputs": [
    {
     "data": {
      "text/plain": [
       "Product\n",
       "Beverages             34983.050847\n",
       "Burgers               29022.324865\n",
       "Chicken Sandwiches    11135.678392\n",
       "Fries                 32034.383954\n",
       "Sides & Other          9819.639279\n",
       "Name: Quantity, dtype: float64"
      ]
     },
     "execution_count": 109,
     "metadata": {},
     "output_type": "execute_result"
    }
   ],
   "source": [
    "sales_df.groupby('Product')['Quantity'].sum()"
   ]
  },
  {
   "cell_type": "code",
   "execution_count": 113,
   "id": "40adfbd5-32f1-4264-ba9a-3e36c1e5f392",
   "metadata": {},
   "outputs": [
    {
     "data": {
      "text/plain": [
       "Product\n",
       "Beverages             34983.050847\n",
       "Fries                 32034.383954\n",
       "Burgers               29022.324865\n",
       "Chicken Sandwiches    11135.678392\n",
       "Sides & Other          9819.639279\n",
       "Name: Quantity, dtype: float64"
      ]
     },
     "execution_count": 113,
     "metadata": {},
     "output_type": "execute_result"
    }
   ],
   "source": [
    "most_quantity=sales_df.groupby('Product')['Quantity'].sum().sort_values(ascending=False)\n",
    "most_quantity"
   ]
  },
  {
   "cell_type": "code",
   "execution_count": 137,
   "id": "a27c820d-5e60-47ed-a432-4d11e77299f9",
   "metadata": {},
   "outputs": [
    {
     "ename": "AttributeError",
     "evalue": "'function' object has no attribute 'reset_index'",
     "output_type": "error",
     "traceback": [
      "\u001b[1;31m---------------------------------------------------------------------------\u001b[0m",
      "\u001b[1;31mAttributeError\u001b[0m                            Traceback (most recent call last)",
      "Cell \u001b[1;32mIn[137], line 1\u001b[0m\n\u001b[1;32m----> 1\u001b[0m most_quantity\u001b[38;5;241m.\u001b[39mreset_index()\n",
      "\u001b[1;31mAttributeError\u001b[0m: 'function' object has no attribute 'reset_index'"
     ]
    }
   ],
   "source": [
    "most_quantity.reset_index()\n",
    "#most_quantity"
   ]
  },
  {
   "cell_type": "code",
   "execution_count": 123,
   "id": "de18fb7f-5698-4a8a-b7c0-1eaebe530d43",
   "metadata": {},
   "outputs": [
    {
     "data": {
      "text/plain": [
       "<Axes: ylabel='Quantity'>"
      ]
     },
     "execution_count": 123,
     "metadata": {},
     "output_type": "execute_result"
    },
    {
     "data": {
      "image/png": "[encoded data removed]",
      "text/plain": [
       "<Figure size 640x480 with 1 Axes>"
      ]
     },
     "metadata": {},
     "output_type": "display_data"
    }
   ],
   "source": [
    "most_quantity.plot(kind='pie',autopct='%0.2f%%')"
   ]
  },
  {
   "cell_type": "markdown",
   "id": "ae890b59-3bd1-4f2c-952c-f1528c977989",
   "metadata": {},
   "source": [
    "- By Revenue"
   ]
  },
  {
   "cell_type": "code",
   "execution_count": 140,
   "id": "9d6eb469-a151-45e3-9d57-95aae9603925",
   "metadata": {},
   "outputs": [
    {
     "data": {
      "text/html": [
       "<div>\n",
       "<style scoped>\n",
       "    .dataframe tbody tr th:only-of-type {\n",
       "        vertical-align: middle;\n",
       "    }\n",
       "\n",
       "    .dataframe tbody tr th {\n",
       "        vertical-align: top;\n",
       "    }\n",
       "\n",
       "    .dataframe thead th {\n",
       "        text-align: right;\n",
       "    }\n",
       "</style>\n",
       "<table border=\"1\" class=\"dataframe\">\n",
       "  <thead>\n",
       "    <tr style=\"text-align: right;\">\n",
       "      <th></th>\n",
       "      <th>Order ID</th>\n",
       "      <th>Date</th>\n",
       "      <th>Product</th>\n",
       "      <th>Price</th>\n",
       "      <th>Quantity</th>\n",
       "      <th>Purchase Type</th>\n",
       "      <th>Payment Method</th>\n",
       "      <th>Manager</th>\n",
       "      <th>City</th>\n",
       "      <th>Year</th>\n",
       "    </tr>\n",
       "  </thead>\n",
       "  <tbody>\n",
       "    <tr>\n",
       "      <th>0</th>\n",
       "      <td>10452</td>\n",
       "      <td>2022-11-07</td>\n",
       "      <td>Fries</td>\n",
       "      <td>3.49</td>\n",
       "      <td>573.065903</td>\n",
       "      <td>Online</td>\n",
       "      <td>Gift Card</td>\n",
       "      <td>Tom Jackson</td>\n",
       "      <td>London</td>\n",
       "      <td>2022</td>\n",
       "    </tr>\n",
       "    <tr>\n",
       "      <th>1</th>\n",
       "      <td>10453</td>\n",
       "      <td>2022-11-07</td>\n",
       "      <td>Beverages</td>\n",
       "      <td>2.95</td>\n",
       "      <td>745.762712</td>\n",
       "      <td>Online</td>\n",
       "      <td>Gift Card</td>\n",
       "      <td>Pablo Perez</td>\n",
       "      <td>Madrid</td>\n",
       "      <td>2022</td>\n",
       "    </tr>\n",
       "  </tbody>\n",
       "</table>\n",
       "</div>"
      ],
      "text/plain": [
       "   Order ID       Date    Product  Price    Quantity Purchase Type  \\\n",
       "0     10452 2022-11-07      Fries   3.49  573.065903       Online    \n",
       "1     10453 2022-11-07  Beverages   2.95  745.762712       Online    \n",
       "\n",
       "  Payment Method      Manager    City  Year  \n",
       "0      Gift Card  Tom Jackson  London  2022  \n",
       "1      Gift Card  Pablo Perez  Madrid  2022  "
      ]
     },
     "execution_count": 140,
     "metadata": {},
     "output_type": "execute_result"
    }
   ],
   "source": [
    "sales_df.head(2)"
   ]
  },
  {
   "cell_type": "code",
   "execution_count": 146,
   "id": "398d87ad-c7ac-4884-a061-95e3bd38deb2",
   "metadata": {},
   "outputs": [
    {
     "data": {
      "text/html": [
       "<div>\n",
       "<style scoped>\n",
       "    .dataframe tbody tr th:only-of-type {\n",
       "        vertical-align: middle;\n",
       "    }\n",
       "\n",
       "    .dataframe tbody tr th {\n",
       "        vertical-align: top;\n",
       "    }\n",
       "\n",
       "    .dataframe thead th {\n",
       "        text-align: right;\n",
       "    }\n",
       "</style>\n",
       "<table border=\"1\" class=\"dataframe\">\n",
       "  <thead>\n",
       "    <tr style=\"text-align: right;\">\n",
       "      <th></th>\n",
       "      <th>Order ID</th>\n",
       "      <th>Date</th>\n",
       "      <th>Product</th>\n",
       "      <th>Price</th>\n",
       "      <th>Quantity</th>\n",
       "      <th>Purchase Type</th>\n",
       "      <th>Payment Method</th>\n",
       "      <th>Manager</th>\n",
       "      <th>City</th>\n",
       "      <th>Year</th>\n",
       "      <th>Revenue</th>\n",
       "    </tr>\n",
       "  </thead>\n",
       "  <tbody>\n",
       "    <tr>\n",
       "      <th>0</th>\n",
       "      <td>10452</td>\n",
       "      <td>2022-11-07</td>\n",
       "      <td>Fries</td>\n",
       "      <td>3.49</td>\n",
       "      <td>573.065903</td>\n",
       "      <td>Online</td>\n",
       "      <td>Gift Card</td>\n",
       "      <td>Tom Jackson</td>\n",
       "      <td>London</td>\n",
       "      <td>2022</td>\n",
       "      <td>2000.0</td>\n",
       "    </tr>\n",
       "    <tr>\n",
       "      <th>1</th>\n",
       "      <td>10453</td>\n",
       "      <td>2022-11-07</td>\n",
       "      <td>Beverages</td>\n",
       "      <td>2.95</td>\n",
       "      <td>745.762712</td>\n",
       "      <td>Online</td>\n",
       "      <td>Gift Card</td>\n",
       "      <td>Pablo Perez</td>\n",
       "      <td>Madrid</td>\n",
       "      <td>2022</td>\n",
       "      <td>2200.0</td>\n",
       "    </tr>\n",
       "    <tr>\n",
       "      <th>2</th>\n",
       "      <td>10454</td>\n",
       "      <td>2022-11-07</td>\n",
       "      <td>Sides &amp; Other</td>\n",
       "      <td>4.99</td>\n",
       "      <td>200.400802</td>\n",
       "      <td>In-store</td>\n",
       "      <td>Gift Card</td>\n",
       "      <td>Joao Silva</td>\n",
       "      <td>Lisbon</td>\n",
       "      <td>2022</td>\n",
       "      <td>1000.0</td>\n",
       "    </tr>\n",
       "    <tr>\n",
       "      <th>3</th>\n",
       "      <td>10455</td>\n",
       "      <td>2022-11-08</td>\n",
       "      <td>Burgers</td>\n",
       "      <td>12.99</td>\n",
       "      <td>569.668976</td>\n",
       "      <td>In-store</td>\n",
       "      <td>Credit Card</td>\n",
       "      <td>Walter Muller</td>\n",
       "      <td>Berlin</td>\n",
       "      <td>2022</td>\n",
       "      <td>7400.0</td>\n",
       "    </tr>\n",
       "    <tr>\n",
       "      <th>4</th>\n",
       "      <td>10456</td>\n",
       "      <td>2022-11-08</td>\n",
       "      <td>Chicken Sandwiches</td>\n",
       "      <td>9.95</td>\n",
       "      <td>201.005025</td>\n",
       "      <td>In-store</td>\n",
       "      <td>Credit Card</td>\n",
       "      <td>Walter Muller</td>\n",
       "      <td>Berlin</td>\n",
       "      <td>2022</td>\n",
       "      <td>2000.0</td>\n",
       "    </tr>\n",
       "    <tr>\n",
       "      <th>...</th>\n",
       "      <td>...</td>\n",
       "      <td>...</td>\n",
       "      <td>...</td>\n",
       "      <td>...</td>\n",
       "      <td>...</td>\n",
       "      <td>...</td>\n",
       "      <td>...</td>\n",
       "      <td>...</td>\n",
       "      <td>...</td>\n",
       "      <td>...</td>\n",
       "      <td>...</td>\n",
       "    </tr>\n",
       "    <tr>\n",
       "      <th>249</th>\n",
       "      <td>10709</td>\n",
       "      <td>2022-12-28</td>\n",
       "      <td>Sides &amp; Other</td>\n",
       "      <td>4.99</td>\n",
       "      <td>200.400802</td>\n",
       "      <td>Drive-thru</td>\n",
       "      <td>Gift Card</td>\n",
       "      <td>Walter Muller</td>\n",
       "      <td>Berlin</td>\n",
       "      <td>2022</td>\n",
       "      <td>1000.0</td>\n",
       "    </tr>\n",
       "    <tr>\n",
       "      <th>250</th>\n",
       "      <td>10710</td>\n",
       "      <td>2022-12-29</td>\n",
       "      <td>Burgers</td>\n",
       "      <td>12.99</td>\n",
       "      <td>754.426482</td>\n",
       "      <td>Drive-thru</td>\n",
       "      <td>Gift Card</td>\n",
       "      <td>Walter Muller</td>\n",
       "      <td>Berlin</td>\n",
       "      <td>2022</td>\n",
       "      <td>9800.0</td>\n",
       "    </tr>\n",
       "    <tr>\n",
       "      <th>251</th>\n",
       "      <td>10711</td>\n",
       "      <td>2022-12-29</td>\n",
       "      <td>Chicken Sandwiches</td>\n",
       "      <td>9.95</td>\n",
       "      <td>281.407035</td>\n",
       "      <td>Drive-thru</td>\n",
       "      <td>Gift Card</td>\n",
       "      <td>Walter Muller</td>\n",
       "      <td>Berlin</td>\n",
       "      <td>2022</td>\n",
       "      <td>2800.0</td>\n",
       "    </tr>\n",
       "    <tr>\n",
       "      <th>252</th>\n",
       "      <td>10712</td>\n",
       "      <td>2022-12-29</td>\n",
       "      <td>Fries</td>\n",
       "      <td>3.49</td>\n",
       "      <td>630.372493</td>\n",
       "      <td>Drive-thru</td>\n",
       "      <td>Gift Card</td>\n",
       "      <td>Walter Muller</td>\n",
       "      <td>Berlin</td>\n",
       "      <td>2022</td>\n",
       "      <td>2200.0</td>\n",
       "    </tr>\n",
       "    <tr>\n",
       "      <th>253</th>\n",
       "      <td>10713</td>\n",
       "      <td>2022-12-29</td>\n",
       "      <td>Beverages</td>\n",
       "      <td>2.95</td>\n",
       "      <td>677.966102</td>\n",
       "      <td>Drive-thru</td>\n",
       "      <td>Gift Card</td>\n",
       "      <td>Walter Muller</td>\n",
       "      <td>Berlin</td>\n",
       "      <td>2022</td>\n",
       "      <td>2000.0</td>\n",
       "    </tr>\n",
       "  </tbody>\n",
       "</table>\n",
       "<p>254 rows × 11 columns</p>\n",
       "</div>"
      ],
      "text/plain": [
       "     Order ID       Date             Product  Price    Quantity Purchase Type  \\\n",
       "0       10452 2022-11-07               Fries   3.49  573.065903       Online    \n",
       "1       10453 2022-11-07           Beverages   2.95  745.762712       Online    \n",
       "2       10454 2022-11-07       Sides & Other   4.99  200.400802     In-store    \n",
       "3       10455 2022-11-08             Burgers  12.99  569.668976     In-store    \n",
       "4       10456 2022-11-08  Chicken Sandwiches   9.95  201.005025     In-store    \n",
       "..        ...        ...                 ...    ...         ...           ...   \n",
       "249     10709 2022-12-28       Sides & Other   4.99  200.400802   Drive-thru    \n",
       "250     10710 2022-12-29             Burgers  12.99  754.426482   Drive-thru    \n",
       "251     10711 2022-12-29  Chicken Sandwiches   9.95  281.407035   Drive-thru    \n",
       "252     10712 2022-12-29               Fries   3.49  630.372493   Drive-thru    \n",
       "253     10713 2022-12-29           Beverages   2.95  677.966102   Drive-thru    \n",
       "\n",
       "    Payment Method        Manager    City  Year  Revenue  \n",
       "0        Gift Card    Tom Jackson  London  2022   2000.0  \n",
       "1        Gift Card    Pablo Perez  Madrid  2022   2200.0  \n",
       "2        Gift Card     Joao Silva  Lisbon  2022   1000.0  \n",
       "3      Credit Card  Walter Muller  Berlin  2022   7400.0  \n",
       "4      Credit Card  Walter Muller  Berlin  2022   2000.0  \n",
       "..             ...            ...     ...   ...      ...  \n",
       "249      Gift Card  Walter Muller  Berlin  2022   1000.0  \n",
       "250      Gift Card  Walter Muller  Berlin  2022   9800.0  \n",
       "251      Gift Card  Walter Muller  Berlin  2022   2800.0  \n",
       "252      Gift Card  Walter Muller  Berlin  2022   2200.0  \n",
       "253      Gift Card  Walter Muller  Berlin  2022   2000.0  \n",
       "\n",
       "[254 rows x 11 columns]"
      ]
     },
     "execution_count": 146,
     "metadata": {},
     "output_type": "execute_result"
    }
   ],
   "source": [
    "sales_df['Revenue']=sales_df['Quantity']*sales_df['Price']\n",
    "sales_df"
   ]
  },
  {
   "cell_type": "code",
   "execution_count": 152,
   "id": "392b903a-9a2f-4585-a3ea-16974e8dca26",
   "metadata": {},
   "outputs": [
    {
     "data": {
      "text/plain": [
       "Product\n",
       "Burgers               377000.000000\n",
       "Fries                 125674.498567\n",
       "Chicken Sandwiches    114639.195980\n",
       "Beverages             103200.000000\n",
       "Sides & Other          49000.000000\n",
       "Name: Revenue, dtype: float64"
      ]
     },
     "execution_count": 152,
     "metadata": {},
     "output_type": "execute_result"
    }
   ],
   "source": [
    "most_revenue=sales_df.groupby('Product')['Revenue'].sum().sort_values(ascending=False)\n",
    "most_revenue"
   ]
  },
  {
   "cell_type": "code",
   "execution_count": 154,
   "id": "80d094a3-c43c-4ccf-af7e-bd1ba57beaf9",
   "metadata": {},
   "outputs": [
    {
     "data": {
      "text/html": [
       "<div>\n",
       "<style scoped>\n",
       "    .dataframe tbody tr th:only-of-type {\n",
       "        vertical-align: middle;\n",
       "    }\n",
       "\n",
       "    .dataframe tbody tr th {\n",
       "        vertical-align: top;\n",
       "    }\n",
       "\n",
       "    .dataframe thead th {\n",
       "        text-align: right;\n",
       "    }\n",
       "</style>\n",
       "<table border=\"1\" class=\"dataframe\">\n",
       "  <thead>\n",
       "    <tr style=\"text-align: right;\">\n",
       "      <th></th>\n",
       "      <th>Product</th>\n",
       "      <th>Revenue</th>\n",
       "    </tr>\n",
       "  </thead>\n",
       "  <tbody>\n",
       "    <tr>\n",
       "      <th>0</th>\n",
       "      <td>Burgers</td>\n",
       "      <td>377000.000000</td>\n",
       "    </tr>\n",
       "    <tr>\n",
       "      <th>1</th>\n",
       "      <td>Fries</td>\n",
       "      <td>125674.498567</td>\n",
       "    </tr>\n",
       "    <tr>\n",
       "      <th>2</th>\n",
       "      <td>Chicken Sandwiches</td>\n",
       "      <td>114639.195980</td>\n",
       "    </tr>\n",
       "    <tr>\n",
       "      <th>3</th>\n",
       "      <td>Beverages</td>\n",
       "      <td>103200.000000</td>\n",
       "    </tr>\n",
       "    <tr>\n",
       "      <th>4</th>\n",
       "      <td>Sides &amp; Other</td>\n",
       "      <td>49000.000000</td>\n",
       "    </tr>\n",
       "  </tbody>\n",
       "</table>\n",
       "</div>"
      ],
      "text/plain": [
       "              Product        Revenue\n",
       "0             Burgers  377000.000000\n",
       "1               Fries  125674.498567\n",
       "2  Chicken Sandwiches  114639.195980\n",
       "3           Beverages  103200.000000\n",
       "4       Sides & Other   49000.000000"
      ]
     },
     "execution_count": 154,
     "metadata": {},
     "output_type": "execute_result"
    }
   ],
   "source": [
    "most_revenue=most_revenue.reset_index()\n",
    "most_revenue"
   ]
  },
  {
   "cell_type": "code",
   "execution_count": 158,
   "id": "bde175d0-50bc-43df-a3ff-1eaf2b9f7459",
   "metadata": {},
   "outputs": [
    {
     "data": {
      "image/png": "[encoded data removed]",
      "text/plain": [
       "<Figure size 640x480 with 1 Axes>"
      ]
     },
     "metadata": {},
     "output_type": "display_data"
    }
   ],
   "source": [
    "plt.bar(most_revenue['Product'],most_revenue['Revenue'])\n",
    "plt.show()"
   ]
  },
  {
   "cell_type": "code",
   "execution_count": 162,
   "id": "156d63ae-621c-4fdd-ad2f-00579c0983d3",
   "metadata": {},
   "outputs": [
    {
     "data": {
      "image/png": "[encoded data removed]",
      "text/plain": [
       "<Figure size 1000x500 with 1 Axes>"
      ]
     },
     "metadata": {},
     "output_type": "display_data"
    }
   ],
   "source": [
    "plt.figure(figsize=(10,5))\n",
    "plt.bar(most_revenue['Product'],most_revenue['Revenue'],color=['Red','Yellow','Blue','Orange','Green'],width=0.2)\n",
    "plt.show()"
   ]
  },
  {
   "cell_type": "markdown",
   "id": "d0090c8f-1da6-4001-b064-ae6a00acdd3b",
   "metadata": {},
   "source": [
    "- Which city had maximun revenue "
   ]
  },
  {
   "cell_type": "markdown",
   "id": "eb343402-1cf3-47ce-bfce-1fd0fd9142d0",
   "metadata": {},
   "source": [
    "or"
   ]
  },
  {
   "cell_type": "markdown",
   "id": "eaa4a02f-96df-4b78-9d05-9fa707af8862",
   "metadata": {},
   "source": [
    "- which manger earned maximum revenue "
   ]
  },
  {
   "cell_type": "code",
   "execution_count": 177,
   "id": "b8e98ff6-d83a-419f-9b07-f9ac9d917c36",
   "metadata": {},
   "outputs": [
    {
     "data": {
      "text/plain": [
       "City\n",
       "Lisbon    241713.694547\n",
       "London    211200.000000\n",
       "Madrid    136200.000000\n",
       "Berlin    100600.000000\n",
       "Paris      79800.000000\n",
       "Name: Revenue, dtype: float64"
      ]
     },
     "execution_count": 177,
     "metadata": {},
     "output_type": "execute_result"
    }
   ],
   "source": [
    "most_rev_city=sales_df.groupby('City')['Revenue'].sum().sort_values(ascending=False)\n",
    "most_rev_city"
   ]
  },
  {
   "cell_type": "code",
   "execution_count": 179,
   "id": "6e55b1fb-f5bf-4f27-8e33-3a3712104f61",
   "metadata": {},
   "outputs": [
    {
     "data": {
      "text/plain": [
       "<Axes: ylabel='Revenue'>"
      ]
     },
     "execution_count": 179,
     "metadata": {},
     "output_type": "execute_result"
    },
    {
     "data": {
      "image/png": "[encoded data removed]",
      "text/plain": [
       "<Figure size 640x480 with 1 Axes>"
      ]
     },
     "metadata": {},
     "output_type": "display_data"
    }
   ],
   "source": [
    "most_rev_city.plot(kind='pie',autopct='%0.2f%%')"
   ]
  },
  {
   "cell_type": "markdown",
   "id": "a4384cba-61f4-4ed3-aac4-4acc53c781e5",
   "metadata": {},
   "source": [
    "- which manger earned maximum revenue"
   ]
  },
  {
   "cell_type": "code",
   "execution_count": 182,
   "id": "5207f1f5-42e3-4681-9c21-67d67c306bec",
   "metadata": {},
   "outputs": [
    {
     "data": {
      "text/plain": [
       "Manager\n",
       "Joao Silva       241713.694547\n",
       "Tom Jackson      211200.000000\n",
       "Pablo Perez      136200.000000\n",
       "Walter Muller    100600.000000\n",
       "Remy Monet        79800.000000\n",
       "Name: Revenue, dtype: float64"
      ]
     },
     "execution_count": 182,
     "metadata": {},
     "output_type": "execute_result"
    }
   ],
   "source": [
    "most_rev_manager=sales_df.groupby('Manager')['Revenue'].sum().sort_values(ascending=False)\n",
    "most_rev_manager"
   ]
  },
  {
   "cell_type": "code",
   "execution_count": 186,
   "id": "c065e896-6d4b-4550-8a94-161cf966396f",
   "metadata": {},
   "outputs": [
    {
     "data": {
      "text/html": [
       "<div>\n",
       "<style scoped>\n",
       "    .dataframe tbody tr th:only-of-type {\n",
       "        vertical-align: middle;\n",
       "    }\n",
       "\n",
       "    .dataframe tbody tr th {\n",
       "        vertical-align: top;\n",
       "    }\n",
       "\n",
       "    .dataframe thead th {\n",
       "        text-align: right;\n",
       "    }\n",
       "</style>\n",
       "<table border=\"1\" class=\"dataframe\">\n",
       "  <thead>\n",
       "    <tr style=\"text-align: right;\">\n",
       "      <th></th>\n",
       "      <th>Manager</th>\n",
       "      <th>Revenue</th>\n",
       "    </tr>\n",
       "  </thead>\n",
       "  <tbody>\n",
       "    <tr>\n",
       "      <th>0</th>\n",
       "      <td>Joao Silva</td>\n",
       "      <td>241713.694547</td>\n",
       "    </tr>\n",
       "    <tr>\n",
       "      <th>1</th>\n",
       "      <td>Tom Jackson</td>\n",
       "      <td>211200.000000</td>\n",
       "    </tr>\n",
       "    <tr>\n",
       "      <th>2</th>\n",
       "      <td>Pablo Perez</td>\n",
       "      <td>136200.000000</td>\n",
       "    </tr>\n",
       "    <tr>\n",
       "      <th>3</th>\n",
       "      <td>Walter Muller</td>\n",
       "      <td>100600.000000</td>\n",
       "    </tr>\n",
       "    <tr>\n",
       "      <th>4</th>\n",
       "      <td>Remy Monet</td>\n",
       "      <td>79800.000000</td>\n",
       "    </tr>\n",
       "  </tbody>\n",
       "</table>\n",
       "</div>"
      ],
      "text/plain": [
       "         Manager        Revenue\n",
       "0     Joao Silva  241713.694547\n",
       "1    Tom Jackson  211200.000000\n",
       "2    Pablo Perez  136200.000000\n",
       "3  Walter Muller  100600.000000\n",
       "4     Remy Monet   79800.000000"
      ]
     },
     "execution_count": 186,
     "metadata": {},
     "output_type": "execute_result"
    }
   ],
   "source": [
    "most_rev_manager=most_rev_manager.reset_index()\n",
    "most_rev_manager"
   ]
  },
  {
   "cell_type": "code",
   "execution_count": 200,
   "id": "1b04516b-0cb2-4a40-bbdf-8ac915c0044d",
   "metadata": {},
   "outputs": [
    {
     "data": {
      "text/plain": [
       "<Figure size 1000x500 with 0 Axes>"
      ]
     },
     "metadata": {},
     "output_type": "display_data"
    },
    {
     "data": {
      "image/png": "[encoded data removed]",
      "text/plain": [
       "<Figure size 640x480 with 1 Axes>"
      ]
     },
     "metadata": {},
     "output_type": "display_data"
    }
   ],
   "source": [
    "plt.figure(figsize=(10,5))\n",
    "most_rev_manager.plot(kind='barh')\n",
    "plt.show()"
   ]
  },
  {
   "cell_type": "markdown",
   "id": "07733bec-91ad-4e6b-8f47-30214cd0eac9",
   "metadata": {},
   "source": [
    "## 4.Date wise Revenue"
   ]
  },
  {
   "cell_type": "code",
   "execution_count": 203,
   "id": "1ea92fb2-3b33-45a2-818c-18aa0a0d0eba",
   "metadata": {},
   "outputs": [
    {
     "data": {
      "text/plain": [
       "Date\n",
       "2022-11-07     5200.000000\n",
       "2022-11-08    12400.000000\n",
       "2022-11-09    14200.000000\n",
       "2022-11-10    13200.000000\n",
       "2022-11-11    14400.000000\n",
       "2022-11-12    14000.000000\n",
       "2022-11-13    27674.498567\n",
       "2022-11-14    17839.195980\n",
       "2022-11-15    13600.000000\n",
       "2022-11-16    13600.000000\n",
       "2022-11-17    14000.000000\n",
       "2022-11-18    14400.000000\n",
       "2022-11-19    14000.000000\n",
       "2022-11-20     8200.000000\n",
       "2022-11-21    14000.000000\n",
       "2022-11-22    13600.000000\n",
       "2022-11-23    13800.000000\n",
       "2022-11-24    13600.000000\n",
       "2022-11-25    13400.000000\n",
       "2022-11-26    13200.000000\n",
       "2022-11-27    13400.000000\n",
       "2022-11-28    13400.000000\n",
       "2022-11-29    13400.000000\n",
       "2022-11-30    13600.000000\n",
       "2022-12-01    13400.000000\n",
       "2022-12-02    14000.000000\n",
       "2022-12-03    14000.000000\n",
       "2022-12-04     9000.000000\n",
       "2022-12-05    14200.000000\n",
       "2022-12-06    14000.000000\n",
       "2022-12-07    14000.000000\n",
       "2022-12-08    14200.000000\n",
       "2022-12-09    14600.000000\n",
       "2022-12-10    14600.000000\n",
       "2022-12-11    15000.000000\n",
       "2022-12-12    14600.000000\n",
       "2022-12-13    14600.000000\n",
       "2022-12-14    14600.000000\n",
       "2022-12-15    14400.000000\n",
       "2022-12-16    15000.000000\n",
       "2022-12-17    15400.000000\n",
       "2022-12-18    15600.000000\n",
       "2022-12-19    15800.000000\n",
       "2022-12-20    16000.000000\n",
       "2022-12-21    16400.000000\n",
       "2022-12-22    16600.000000\n",
       "2022-12-23    16000.000000\n",
       "2022-12-24    16400.000000\n",
       "2022-12-25    16600.000000\n",
       "2022-12-26    17000.000000\n",
       "2022-12-27    17000.000000\n",
       "2022-12-28    17600.000000\n",
       "2022-12-29    16800.000000\n",
       "Name: Revenue, dtype: float64"
      ]
     },
     "execution_count": 203,
     "metadata": {},
     "output_type": "execute_result"
    }
   ],
   "source": [
    "sales_df.groupby('Date')['Revenue'].sum()"
   ]
  },
  {
   "cell_type": "code",
   "execution_count": 211,
   "id": "d1fdb823-0b95-4d3b-abe3-513da3552f7a",
   "metadata": {},
   "outputs": [
    {
     "data": {
      "image/png": "[encoded data removed]",
      "text/plain": [
       "<Figure size 900x400 with 1 Axes>"
      ]
     },
     "metadata": {},
     "output_type": "display_data"
    }
   ],
   "source": [
    "sales_df.plot('Date','Revenue',color='Red',linewidth=2,figsize=(9,4))\n",
    "plt.title('Date wise Revenue ')\n",
    "plt.xlabel('Dete')\n",
    "plt.ylabel('Revenue')\n",
    "plt.show()"
   ]
  },
  {
   "cell_type": "markdown",
   "id": "3f545b17-f92e-48a5-88cf-4f48f5b18257",
   "metadata": {},
   "source": [
    "## Average Revenue "
   ]
  },
  {
   "cell_type": "code",
   "execution_count": 214,
   "id": "2eab58d3-dde0-4ca2-9a25-b74f995cb27d",
   "metadata": {},
   "outputs": [
    {
     "data": {
      "text/html": [
       "<div>\n",
       "<style scoped>\n",
       "    .dataframe tbody tr th:only-of-type {\n",
       "        vertical-align: middle;\n",
       "    }\n",
       "\n",
       "    .dataframe tbody tr th {\n",
       "        vertical-align: top;\n",
       "    }\n",
       "\n",
       "    .dataframe thead th {\n",
       "        text-align: right;\n",
       "    }\n",
       "</style>\n",
       "<table border=\"1\" class=\"dataframe\">\n",
       "  <thead>\n",
       "    <tr style=\"text-align: right;\">\n",
       "      <th></th>\n",
       "      <th>Order ID</th>\n",
       "      <th>Date</th>\n",
       "      <th>Product</th>\n",
       "      <th>Price</th>\n",
       "      <th>Quantity</th>\n",
       "      <th>Purchase Type</th>\n",
       "      <th>Payment Method</th>\n",
       "      <th>Manager</th>\n",
       "      <th>City</th>\n",
       "      <th>Year</th>\n",
       "      <th>Revenue</th>\n",
       "    </tr>\n",
       "  </thead>\n",
       "  <tbody>\n",
       "    <tr>\n",
       "      <th>0</th>\n",
       "      <td>10452</td>\n",
       "      <td>2022-11-07</td>\n",
       "      <td>Fries</td>\n",
       "      <td>3.49</td>\n",
       "      <td>573.065903</td>\n",
       "      <td>Online</td>\n",
       "      <td>Gift Card</td>\n",
       "      <td>Tom Jackson</td>\n",
       "      <td>London</td>\n",
       "      <td>2022</td>\n",
       "      <td>2000.0</td>\n",
       "    </tr>\n",
       "    <tr>\n",
       "      <th>1</th>\n",
       "      <td>10453</td>\n",
       "      <td>2022-11-07</td>\n",
       "      <td>Beverages</td>\n",
       "      <td>2.95</td>\n",
       "      <td>745.762712</td>\n",
       "      <td>Online</td>\n",
       "      <td>Gift Card</td>\n",
       "      <td>Pablo Perez</td>\n",
       "      <td>Madrid</td>\n",
       "      <td>2022</td>\n",
       "      <td>2200.0</td>\n",
       "    </tr>\n",
       "    <tr>\n",
       "      <th>2</th>\n",
       "      <td>10454</td>\n",
       "      <td>2022-11-07</td>\n",
       "      <td>Sides &amp; Other</td>\n",
       "      <td>4.99</td>\n",
       "      <td>200.400802</td>\n",
       "      <td>In-store</td>\n",
       "      <td>Gift Card</td>\n",
       "      <td>Joao Silva</td>\n",
       "      <td>Lisbon</td>\n",
       "      <td>2022</td>\n",
       "      <td>1000.0</td>\n",
       "    </tr>\n",
       "    <tr>\n",
       "      <th>3</th>\n",
       "      <td>10455</td>\n",
       "      <td>2022-11-08</td>\n",
       "      <td>Burgers</td>\n",
       "      <td>12.99</td>\n",
       "      <td>569.668976</td>\n",
       "      <td>In-store</td>\n",
       "      <td>Credit Card</td>\n",
       "      <td>Walter Muller</td>\n",
       "      <td>Berlin</td>\n",
       "      <td>2022</td>\n",
       "      <td>7400.0</td>\n",
       "    </tr>\n",
       "    <tr>\n",
       "      <th>4</th>\n",
       "      <td>10456</td>\n",
       "      <td>2022-11-08</td>\n",
       "      <td>Chicken Sandwiches</td>\n",
       "      <td>9.95</td>\n",
       "      <td>201.005025</td>\n",
       "      <td>In-store</td>\n",
       "      <td>Credit Card</td>\n",
       "      <td>Walter Muller</td>\n",
       "      <td>Berlin</td>\n",
       "      <td>2022</td>\n",
       "      <td>2000.0</td>\n",
       "    </tr>\n",
       "  </tbody>\n",
       "</table>\n",
       "</div>"
      ],
      "text/plain": [
       "   Order ID       Date             Product  Price    Quantity Purchase Type  \\\n",
       "0     10452 2022-11-07               Fries   3.49  573.065903       Online    \n",
       "1     10453 2022-11-07           Beverages   2.95  745.762712       Online    \n",
       "2     10454 2022-11-07       Sides & Other   4.99  200.400802     In-store    \n",
       "3     10455 2022-11-08             Burgers  12.99  569.668976     In-store    \n",
       "4     10456 2022-11-08  Chicken Sandwiches   9.95  201.005025     In-store    \n",
       "\n",
       "  Payment Method        Manager    City  Year  Revenue  \n",
       "0      Gift Card    Tom Jackson  London  2022   2000.0  \n",
       "1      Gift Card    Pablo Perez  Madrid  2022   2200.0  \n",
       "2      Gift Card     Joao Silva  Lisbon  2022   1000.0  \n",
       "3    Credit Card  Walter Muller  Berlin  2022   7400.0  \n",
       "4    Credit Card  Walter Muller  Berlin  2022   2000.0  "
      ]
     },
     "execution_count": 214,
     "metadata": {},
     "output_type": "execute_result"
    }
   ],
   "source": [
    "sales_df.head()"
   ]
  },
  {
   "cell_type": "code",
   "execution_count": 218,
   "id": "f9ddfc80-9c35-4097-909d-0f03ee02330f",
   "metadata": {},
   "outputs": [
    {
     "data": {
      "text/plain": [
       "3029.5814745954126"
      ]
     },
     "execution_count": 218,
     "metadata": {},
     "output_type": "execute_result"
    }
   ],
   "source": [
    "sales_df['Revenue'].mean()"
   ]
  },
  {
   "cell_type": "markdown",
   "id": "fba2af49-41f8-4707-a61c-4e55dcddf5eb",
   "metadata": {},
   "source": [
    "- Q.6) Averege Revenue of november & December Month"
   ]
  },
  {
   "cell_type": "code",
   "execution_count": 221,
   "id": "11548039-75ff-46c4-8d09-972d35b341ad",
   "metadata": {},
   "outputs": [],
   "source": [
    "sales_df['Month']=sales_df['Date'].dt.month"
   ]
  },
  {
   "cell_type": "code",
   "execution_count": 223,
   "id": "b0b7b7db-0f48-4a90-a2a1-333fa80bed71",
   "metadata": {},
   "outputs": [
    {
     "data": {
      "text/html": [
       "<div>\n",
       "<style scoped>\n",
       "    .dataframe tbody tr th:only-of-type {\n",
       "        vertical-align: middle;\n",
       "    }\n",
       "\n",
       "    .dataframe tbody tr th {\n",
       "        vertical-align: top;\n",
       "    }\n",
       "\n",
       "    .dataframe thead th {\n",
       "        text-align: right;\n",
       "    }\n",
       "</style>\n",
       "<table border=\"1\" class=\"dataframe\">\n",
       "  <thead>\n",
       "    <tr style=\"text-align: right;\">\n",
       "      <th></th>\n",
       "      <th>Order ID</th>\n",
       "      <th>Date</th>\n",
       "      <th>Product</th>\n",
       "      <th>Price</th>\n",
       "      <th>Quantity</th>\n",
       "      <th>Purchase Type</th>\n",
       "      <th>Payment Method</th>\n",
       "      <th>Manager</th>\n",
       "      <th>City</th>\n",
       "      <th>Year</th>\n",
       "      <th>Revenue</th>\n",
       "      <th>Month</th>\n",
       "    </tr>\n",
       "  </thead>\n",
       "  <tbody>\n",
       "    <tr>\n",
       "      <th>0</th>\n",
       "      <td>10452</td>\n",
       "      <td>2022-11-07</td>\n",
       "      <td>Fries</td>\n",
       "      <td>3.49</td>\n",
       "      <td>573.065903</td>\n",
       "      <td>Online</td>\n",
       "      <td>Gift Card</td>\n",
       "      <td>Tom Jackson</td>\n",
       "      <td>London</td>\n",
       "      <td>2022</td>\n",
       "      <td>2000.0</td>\n",
       "      <td>11</td>\n",
       "    </tr>\n",
       "    <tr>\n",
       "      <th>1</th>\n",
       "      <td>10453</td>\n",
       "      <td>2022-11-07</td>\n",
       "      <td>Beverages</td>\n",
       "      <td>2.95</td>\n",
       "      <td>745.762712</td>\n",
       "      <td>Online</td>\n",
       "      <td>Gift Card</td>\n",
       "      <td>Pablo Perez</td>\n",
       "      <td>Madrid</td>\n",
       "      <td>2022</td>\n",
       "      <td>2200.0</td>\n",
       "      <td>11</td>\n",
       "    </tr>\n",
       "    <tr>\n",
       "      <th>2</th>\n",
       "      <td>10454</td>\n",
       "      <td>2022-11-07</td>\n",
       "      <td>Sides &amp; Other</td>\n",
       "      <td>4.99</td>\n",
       "      <td>200.400802</td>\n",
       "      <td>In-store</td>\n",
       "      <td>Gift Card</td>\n",
       "      <td>Joao Silva</td>\n",
       "      <td>Lisbon</td>\n",
       "      <td>2022</td>\n",
       "      <td>1000.0</td>\n",
       "      <td>11</td>\n",
       "    </tr>\n",
       "    <tr>\n",
       "      <th>3</th>\n",
       "      <td>10455</td>\n",
       "      <td>2022-11-08</td>\n",
       "      <td>Burgers</td>\n",
       "      <td>12.99</td>\n",
       "      <td>569.668976</td>\n",
       "      <td>In-store</td>\n",
       "      <td>Credit Card</td>\n",
       "      <td>Walter Muller</td>\n",
       "      <td>Berlin</td>\n",
       "      <td>2022</td>\n",
       "      <td>7400.0</td>\n",
       "      <td>11</td>\n",
       "    </tr>\n",
       "    <tr>\n",
       "      <th>4</th>\n",
       "      <td>10456</td>\n",
       "      <td>2022-11-08</td>\n",
       "      <td>Chicken Sandwiches</td>\n",
       "      <td>9.95</td>\n",
       "      <td>201.005025</td>\n",
       "      <td>In-store</td>\n",
       "      <td>Credit Card</td>\n",
       "      <td>Walter Muller</td>\n",
       "      <td>Berlin</td>\n",
       "      <td>2022</td>\n",
       "      <td>2000.0</td>\n",
       "      <td>11</td>\n",
       "    </tr>\n",
       "    <tr>\n",
       "      <th>...</th>\n",
       "      <td>...</td>\n",
       "      <td>...</td>\n",
       "      <td>...</td>\n",
       "      <td>...</td>\n",
       "      <td>...</td>\n",
       "      <td>...</td>\n",
       "      <td>...</td>\n",
       "      <td>...</td>\n",
       "      <td>...</td>\n",
       "      <td>...</td>\n",
       "      <td>...</td>\n",
       "      <td>...</td>\n",
       "    </tr>\n",
       "    <tr>\n",
       "      <th>249</th>\n",
       "      <td>10709</td>\n",
       "      <td>2022-12-28</td>\n",
       "      <td>Sides &amp; Other</td>\n",
       "      <td>4.99</td>\n",
       "      <td>200.400802</td>\n",
       "      <td>Drive-thru</td>\n",
       "      <td>Gift Card</td>\n",
       "      <td>Walter Muller</td>\n",
       "      <td>Berlin</td>\n",
       "      <td>2022</td>\n",
       "      <td>1000.0</td>\n",
       "      <td>12</td>\n",
       "    </tr>\n",
       "    <tr>\n",
       "      <th>250</th>\n",
       "      <td>10710</td>\n",
       "      <td>2022-12-29</td>\n",
       "      <td>Burgers</td>\n",
       "      <td>12.99</td>\n",
       "      <td>754.426482</td>\n",
       "      <td>Drive-thru</td>\n",
       "      <td>Gift Card</td>\n",
       "      <td>Walter Muller</td>\n",
       "      <td>Berlin</td>\n",
       "      <td>2022</td>\n",
       "      <td>9800.0</td>\n",
       "      <td>12</td>\n",
       "    </tr>\n",
       "    <tr>\n",
       "      <th>251</th>\n",
       "      <td>10711</td>\n",
       "      <td>2022-12-29</td>\n",
       "      <td>Chicken Sandwiches</td>\n",
       "      <td>9.95</td>\n",
       "      <td>281.407035</td>\n",
       "      <td>Drive-thru</td>\n",
       "      <td>Gift Card</td>\n",
       "      <td>Walter Muller</td>\n",
       "      <td>Berlin</td>\n",
       "      <td>2022</td>\n",
       "      <td>2800.0</td>\n",
       "      <td>12</td>\n",
       "    </tr>\n",
       "    <tr>\n",
       "      <th>252</th>\n",
       "      <td>10712</td>\n",
       "      <td>2022-12-29</td>\n",
       "      <td>Fries</td>\n",
       "      <td>3.49</td>\n",
       "      <td>630.372493</td>\n",
       "      <td>Drive-thru</td>\n",
       "      <td>Gift Card</td>\n",
       "      <td>Walter Muller</td>\n",
       "      <td>Berlin</td>\n",
       "      <td>2022</td>\n",
       "      <td>2200.0</td>\n",
       "      <td>12</td>\n",
       "    </tr>\n",
       "    <tr>\n",
       "      <th>253</th>\n",
       "      <td>10713</td>\n",
       "      <td>2022-12-29</td>\n",
       "      <td>Beverages</td>\n",
       "      <td>2.95</td>\n",
       "      <td>677.966102</td>\n",
       "      <td>Drive-thru</td>\n",
       "      <td>Gift Card</td>\n",
       "      <td>Walter Muller</td>\n",
       "      <td>Berlin</td>\n",
       "      <td>2022</td>\n",
       "      <td>2000.0</td>\n",
       "      <td>12</td>\n",
       "    </tr>\n",
       "  </tbody>\n",
       "</table>\n",
       "<p>254 rows × 12 columns</p>\n",
       "</div>"
      ],
      "text/plain": [
       "     Order ID       Date             Product  Price    Quantity Purchase Type  \\\n",
       "0       10452 2022-11-07               Fries   3.49  573.065903       Online    \n",
       "1       10453 2022-11-07           Beverages   2.95  745.762712       Online    \n",
       "2       10454 2022-11-07       Sides & Other   4.99  200.400802     In-store    \n",
       "3       10455 2022-11-08             Burgers  12.99  569.668976     In-store    \n",
       "4       10456 2022-11-08  Chicken Sandwiches   9.95  201.005025     In-store    \n",
       "..        ...        ...                 ...    ...         ...           ...   \n",
       "249     10709 2022-12-28       Sides & Other   4.99  200.400802   Drive-thru    \n",
       "250     10710 2022-12-29             Burgers  12.99  754.426482   Drive-thru    \n",
       "251     10711 2022-12-29  Chicken Sandwiches   9.95  281.407035   Drive-thru    \n",
       "252     10712 2022-12-29               Fries   3.49  630.372493   Drive-thru    \n",
       "253     10713 2022-12-29           Beverages   2.95  677.966102   Drive-thru    \n",
       "\n",
       "    Payment Method        Manager    City  Year  Revenue  Month  \n",
       "0        Gift Card    Tom Jackson  London  2022   2000.0     11  \n",
       "1        Gift Card    Pablo Perez  Madrid  2022   2200.0     11  \n",
       "2        Gift Card     Joao Silva  Lisbon  2022   1000.0     11  \n",
       "3      Credit Card  Walter Muller  Berlin  2022   7400.0     11  \n",
       "4      Credit Card  Walter Muller  Berlin  2022   2000.0     11  \n",
       "..             ...            ...     ...   ...      ...    ...  \n",
       "249      Gift Card  Walter Muller  Berlin  2022   1000.0     12  \n",
       "250      Gift Card  Walter Muller  Berlin  2022   9800.0     12  \n",
       "251      Gift Card  Walter Muller  Berlin  2022   2800.0     12  \n",
       "252      Gift Card  Walter Muller  Berlin  2022   2200.0     12  \n",
       "253      Gift Card  Walter Muller  Berlin  2022   2000.0     12  \n",
       "\n",
       "[254 rows x 12 columns]"
      ]
     },
     "execution_count": 223,
     "metadata": {},
     "output_type": "execute_result"
    }
   ],
   "source": [
    "sales_df"
   ]
  },
  {
   "cell_type": "code",
   "execution_count": 231,
   "id": "aa1cab01-51ab-4ae3-906b-4f1d000bb7f3",
   "metadata": {},
   "outputs": [
    {
     "data": {
      "text/html": [
       "<div>\n",
       "<style scoped>\n",
       "    .dataframe tbody tr th:only-of-type {\n",
       "        vertical-align: middle;\n",
       "    }\n",
       "\n",
       "    .dataframe tbody tr th {\n",
       "        vertical-align: top;\n",
       "    }\n",
       "\n",
       "    .dataframe thead th {\n",
       "        text-align: right;\n",
       "    }\n",
       "</style>\n",
       "<table border=\"1\" class=\"dataframe\">\n",
       "  <thead>\n",
       "    <tr style=\"text-align: right;\">\n",
       "      <th></th>\n",
       "      <th>Order ID</th>\n",
       "      <th>Date</th>\n",
       "      <th>Product</th>\n",
       "      <th>Price</th>\n",
       "      <th>Quantity</th>\n",
       "      <th>Purchase Type</th>\n",
       "      <th>Payment Method</th>\n",
       "      <th>Manager</th>\n",
       "      <th>City</th>\n",
       "      <th>Year</th>\n",
       "      <th>Revenue</th>\n",
       "      <th>Month</th>\n",
       "    </tr>\n",
       "  </thead>\n",
       "  <tbody>\n",
       "    <tr>\n",
       "      <th>0</th>\n",
       "      <td>10452</td>\n",
       "      <td>2022-11-07</td>\n",
       "      <td>Fries</td>\n",
       "      <td>3.49</td>\n",
       "      <td>573.065903</td>\n",
       "      <td>Online</td>\n",
       "      <td>Gift Card</td>\n",
       "      <td>Tom Jackson</td>\n",
       "      <td>London</td>\n",
       "      <td>2022</td>\n",
       "      <td>2000.0</td>\n",
       "      <td>11</td>\n",
       "    </tr>\n",
       "    <tr>\n",
       "      <th>1</th>\n",
       "      <td>10453</td>\n",
       "      <td>2022-11-07</td>\n",
       "      <td>Beverages</td>\n",
       "      <td>2.95</td>\n",
       "      <td>745.762712</td>\n",
       "      <td>Online</td>\n",
       "      <td>Gift Card</td>\n",
       "      <td>Pablo Perez</td>\n",
       "      <td>Madrid</td>\n",
       "      <td>2022</td>\n",
       "      <td>2200.0</td>\n",
       "      <td>11</td>\n",
       "    </tr>\n",
       "    <tr>\n",
       "      <th>2</th>\n",
       "      <td>10454</td>\n",
       "      <td>2022-11-07</td>\n",
       "      <td>Sides &amp; Other</td>\n",
       "      <td>4.99</td>\n",
       "      <td>200.400802</td>\n",
       "      <td>In-store</td>\n",
       "      <td>Gift Card</td>\n",
       "      <td>Joao Silva</td>\n",
       "      <td>Lisbon</td>\n",
       "      <td>2022</td>\n",
       "      <td>1000.0</td>\n",
       "      <td>11</td>\n",
       "    </tr>\n",
       "    <tr>\n",
       "      <th>3</th>\n",
       "      <td>10455</td>\n",
       "      <td>2022-11-08</td>\n",
       "      <td>Burgers</td>\n",
       "      <td>12.99</td>\n",
       "      <td>569.668976</td>\n",
       "      <td>In-store</td>\n",
       "      <td>Credit Card</td>\n",
       "      <td>Walter Muller</td>\n",
       "      <td>Berlin</td>\n",
       "      <td>2022</td>\n",
       "      <td>7400.0</td>\n",
       "      <td>11</td>\n",
       "    </tr>\n",
       "    <tr>\n",
       "      <th>4</th>\n",
       "      <td>10456</td>\n",
       "      <td>2022-11-08</td>\n",
       "      <td>Chicken Sandwiches</td>\n",
       "      <td>9.95</td>\n",
       "      <td>201.005025</td>\n",
       "      <td>In-store</td>\n",
       "      <td>Credit Card</td>\n",
       "      <td>Walter Muller</td>\n",
       "      <td>Berlin</td>\n",
       "      <td>2022</td>\n",
       "      <td>2000.0</td>\n",
       "      <td>11</td>\n",
       "    </tr>\n",
       "    <tr>\n",
       "      <th>...</th>\n",
       "      <td>...</td>\n",
       "      <td>...</td>\n",
       "      <td>...</td>\n",
       "      <td>...</td>\n",
       "      <td>...</td>\n",
       "      <td>...</td>\n",
       "      <td>...</td>\n",
       "      <td>...</td>\n",
       "      <td>...</td>\n",
       "      <td>...</td>\n",
       "      <td>...</td>\n",
       "      <td>...</td>\n",
       "    </tr>\n",
       "    <tr>\n",
       "      <th>108</th>\n",
       "      <td>10568</td>\n",
       "      <td>2022-11-30</td>\n",
       "      <td>Beverages</td>\n",
       "      <td>2.95</td>\n",
       "      <td>677.966102</td>\n",
       "      <td>Online</td>\n",
       "      <td>Credit Card</td>\n",
       "      <td>Tom Jackson</td>\n",
       "      <td>London</td>\n",
       "      <td>2022</td>\n",
       "      <td>2000.0</td>\n",
       "      <td>11</td>\n",
       "    </tr>\n",
       "    <tr>\n",
       "      <th>109</th>\n",
       "      <td>10569</td>\n",
       "      <td>2022-11-30</td>\n",
       "      <td>Sides &amp; Other</td>\n",
       "      <td>4.99</td>\n",
       "      <td>200.400802</td>\n",
       "      <td>Online</td>\n",
       "      <td>Credit Card</td>\n",
       "      <td>Tom Jackson</td>\n",
       "      <td>London</td>\n",
       "      <td>2022</td>\n",
       "      <td>1000.0</td>\n",
       "      <td>11</td>\n",
       "    </tr>\n",
       "    <tr>\n",
       "      <th>127</th>\n",
       "      <td>10537</td>\n",
       "      <td>2022-11-24</td>\n",
       "      <td>Fries</td>\n",
       "      <td>3.49</td>\n",
       "      <td>630.372493</td>\n",
       "      <td>Drive-thru</td>\n",
       "      <td>Credit Card</td>\n",
       "      <td>Pablo Perez</td>\n",
       "      <td>Madrid</td>\n",
       "      <td>2022</td>\n",
       "      <td>2200.0</td>\n",
       "      <td>11</td>\n",
       "    </tr>\n",
       "    <tr>\n",
       "      <th>128</th>\n",
       "      <td>10538</td>\n",
       "      <td>2022-11-24</td>\n",
       "      <td>Beverages</td>\n",
       "      <td>2.95</td>\n",
       "      <td>745.762712</td>\n",
       "      <td>Drive-thru</td>\n",
       "      <td>Credit Card</td>\n",
       "      <td>Pablo Perez</td>\n",
       "      <td>Madrid</td>\n",
       "      <td>2022</td>\n",
       "      <td>2200.0</td>\n",
       "      <td>11</td>\n",
       "    </tr>\n",
       "    <tr>\n",
       "      <th>129</th>\n",
       "      <td>10539</td>\n",
       "      <td>2022-11-24</td>\n",
       "      <td>Sides &amp; Other</td>\n",
       "      <td>4.99</td>\n",
       "      <td>200.400802</td>\n",
       "      <td>Drive-thru</td>\n",
       "      <td>Credit Card</td>\n",
       "      <td>Pablo Perez</td>\n",
       "      <td>Madrid</td>\n",
       "      <td>2022</td>\n",
       "      <td>1000.0</td>\n",
       "      <td>11</td>\n",
       "    </tr>\n",
       "  </tbody>\n",
       "</table>\n",
       "<p>113 rows × 12 columns</p>\n",
       "</div>"
      ],
      "text/plain": [
       "     Order ID       Date             Product  Price    Quantity Purchase Type  \\\n",
       "0       10452 2022-11-07               Fries   3.49  573.065903       Online    \n",
       "1       10453 2022-11-07           Beverages   2.95  745.762712       Online    \n",
       "2       10454 2022-11-07       Sides & Other   4.99  200.400802     In-store    \n",
       "3       10455 2022-11-08             Burgers  12.99  569.668976     In-store    \n",
       "4       10456 2022-11-08  Chicken Sandwiches   9.95  201.005025     In-store    \n",
       "..        ...        ...                 ...    ...         ...           ...   \n",
       "108     10568 2022-11-30           Beverages   2.95  677.966102       Online    \n",
       "109     10569 2022-11-30       Sides & Other   4.99  200.400802       Online    \n",
       "127     10537 2022-11-24               Fries   3.49  630.372493   Drive-thru    \n",
       "128     10538 2022-11-24           Beverages   2.95  745.762712   Drive-thru    \n",
       "129     10539 2022-11-24       Sides & Other   4.99  200.400802   Drive-thru    \n",
       "\n",
       "    Payment Method        Manager    City  Year  Revenue  Month  \n",
       "0        Gift Card    Tom Jackson  London  2022   2000.0     11  \n",
       "1        Gift Card    Pablo Perez  Madrid  2022   2200.0     11  \n",
       "2        Gift Card     Joao Silva  Lisbon  2022   1000.0     11  \n",
       "3      Credit Card  Walter Muller  Berlin  2022   7400.0     11  \n",
       "4      Credit Card  Walter Muller  Berlin  2022   2000.0     11  \n",
       "..             ...            ...     ...   ...      ...    ...  \n",
       "108    Credit Card    Tom Jackson  London  2022   2000.0     11  \n",
       "109    Credit Card    Tom Jackson  London  2022   1000.0     11  \n",
       "127    Credit Card    Pablo Perez  Madrid  2022   2200.0     11  \n",
       "128    Credit Card    Pablo Perez  Madrid  2022   2200.0     11  \n",
       "129    Credit Card    Pablo Perez  Madrid  2022   1000.0     11  \n",
       "\n",
       "[113 rows x 12 columns]"
      ]
     },
     "execution_count": 231,
     "metadata": {},
     "output_type": "execute_result"
    }
   ],
   "source": [
    "m11=sales_df[sales_df['Month']==11]\n",
    "m11"
   ]
  },
  {
   "cell_type": "code",
   "execution_count": 235,
   "id": "2185f0fd-9c31-4579-8dbc-224b0815598a",
   "metadata": {},
   "outputs": [
    {
     "data": {
      "text/plain": [
       "2939.0592437808386"
      ]
     },
     "execution_count": 235,
     "metadata": {},
     "output_type": "execute_result"
    }
   ],
   "source": [
    "m11['Revenue'].mean()"
   ]
  },
  {
   "cell_type": "code",
   "execution_count": 237,
   "id": "c4785492-60ab-4da3-bc61-4587fce8dff9",
   "metadata": {},
   "outputs": [
    {
     "data": {
      "text/html": [
       "<div>\n",
       "<style scoped>\n",
       "    .dataframe tbody tr th:only-of-type {\n",
       "        vertical-align: middle;\n",
       "    }\n",
       "\n",
       "    .dataframe tbody tr th {\n",
       "        vertical-align: top;\n",
       "    }\n",
       "\n",
       "    .dataframe thead th {\n",
       "        text-align: right;\n",
       "    }\n",
       "</style>\n",
       "<table border=\"1\" class=\"dataframe\">\n",
       "  <thead>\n",
       "    <tr style=\"text-align: right;\">\n",
       "      <th></th>\n",
       "      <th>Order ID</th>\n",
       "      <th>Date</th>\n",
       "      <th>Product</th>\n",
       "      <th>Price</th>\n",
       "      <th>Quantity</th>\n",
       "      <th>Purchase Type</th>\n",
       "      <th>Payment Method</th>\n",
       "      <th>Manager</th>\n",
       "      <th>City</th>\n",
       "      <th>Year</th>\n",
       "      <th>Revenue</th>\n",
       "      <th>Month</th>\n",
       "    </tr>\n",
       "  </thead>\n",
       "  <tbody>\n",
       "    <tr>\n",
       "      <th>110</th>\n",
       "      <td>10570</td>\n",
       "      <td>2022-12-01</td>\n",
       "      <td>Burgers</td>\n",
       "      <td>12.99</td>\n",
       "      <td>492.686682</td>\n",
       "      <td>Online</td>\n",
       "      <td>Credit Card</td>\n",
       "      <td>Tom Jackson</td>\n",
       "      <td>London</td>\n",
       "      <td>2022</td>\n",
       "      <td>6400.0</td>\n",
       "      <td>12</td>\n",
       "    </tr>\n",
       "    <tr>\n",
       "      <th>111</th>\n",
       "      <td>10571</td>\n",
       "      <td>2022-12-01</td>\n",
       "      <td>Chicken Sandwiches</td>\n",
       "      <td>9.95</td>\n",
       "      <td>201.005025</td>\n",
       "      <td>Online</td>\n",
       "      <td>Credit Card</td>\n",
       "      <td>Tom Jackson</td>\n",
       "      <td>London</td>\n",
       "      <td>2022</td>\n",
       "      <td>2000.0</td>\n",
       "      <td>12</td>\n",
       "    </tr>\n",
       "    <tr>\n",
       "      <th>112</th>\n",
       "      <td>10572</td>\n",
       "      <td>2022-12-01</td>\n",
       "      <td>Fries</td>\n",
       "      <td>3.49</td>\n",
       "      <td>573.065903</td>\n",
       "      <td>Online</td>\n",
       "      <td>Credit Card</td>\n",
       "      <td>Remy Monet</td>\n",
       "      <td>Paris</td>\n",
       "      <td>2022</td>\n",
       "      <td>2000.0</td>\n",
       "      <td>12</td>\n",
       "    </tr>\n",
       "    <tr>\n",
       "      <th>113</th>\n",
       "      <td>10573</td>\n",
       "      <td>2022-12-01</td>\n",
       "      <td>Beverages</td>\n",
       "      <td>2.95</td>\n",
       "      <td>677.966102</td>\n",
       "      <td>Online</td>\n",
       "      <td>Credit Card</td>\n",
       "      <td>Remy Monet</td>\n",
       "      <td>Paris</td>\n",
       "      <td>2022</td>\n",
       "      <td>2000.0</td>\n",
       "      <td>12</td>\n",
       "    </tr>\n",
       "    <tr>\n",
       "      <th>114</th>\n",
       "      <td>10574</td>\n",
       "      <td>2022-12-01</td>\n",
       "      <td>Sides &amp; Other</td>\n",
       "      <td>4.99</td>\n",
       "      <td>200.400802</td>\n",
       "      <td>Online</td>\n",
       "      <td>Credit Card</td>\n",
       "      <td>Remy Monet</td>\n",
       "      <td>Paris</td>\n",
       "      <td>2022</td>\n",
       "      <td>1000.0</td>\n",
       "      <td>12</td>\n",
       "    </tr>\n",
       "    <tr>\n",
       "      <th>...</th>\n",
       "      <td>...</td>\n",
       "      <td>...</td>\n",
       "      <td>...</td>\n",
       "      <td>...</td>\n",
       "      <td>...</td>\n",
       "      <td>...</td>\n",
       "      <td>...</td>\n",
       "      <td>...</td>\n",
       "      <td>...</td>\n",
       "      <td>...</td>\n",
       "      <td>...</td>\n",
       "      <td>...</td>\n",
       "    </tr>\n",
       "    <tr>\n",
       "      <th>249</th>\n",
       "      <td>10709</td>\n",
       "      <td>2022-12-28</td>\n",
       "      <td>Sides &amp; Other</td>\n",
       "      <td>4.99</td>\n",
       "      <td>200.400802</td>\n",
       "      <td>Drive-thru</td>\n",
       "      <td>Gift Card</td>\n",
       "      <td>Walter Muller</td>\n",
       "      <td>Berlin</td>\n",
       "      <td>2022</td>\n",
       "      <td>1000.0</td>\n",
       "      <td>12</td>\n",
       "    </tr>\n",
       "    <tr>\n",
       "      <th>250</th>\n",
       "      <td>10710</td>\n",
       "      <td>2022-12-29</td>\n",
       "      <td>Burgers</td>\n",
       "      <td>12.99</td>\n",
       "      <td>754.426482</td>\n",
       "      <td>Drive-thru</td>\n",
       "      <td>Gift Card</td>\n",
       "      <td>Walter Muller</td>\n",
       "      <td>Berlin</td>\n",
       "      <td>2022</td>\n",
       "      <td>9800.0</td>\n",
       "      <td>12</td>\n",
       "    </tr>\n",
       "    <tr>\n",
       "      <th>251</th>\n",
       "      <td>10711</td>\n",
       "      <td>2022-12-29</td>\n",
       "      <td>Chicken Sandwiches</td>\n",
       "      <td>9.95</td>\n",
       "      <td>281.407035</td>\n",
       "      <td>Drive-thru</td>\n",
       "      <td>Gift Card</td>\n",
       "      <td>Walter Muller</td>\n",
       "      <td>Berlin</td>\n",
       "      <td>2022</td>\n",
       "      <td>2800.0</td>\n",
       "      <td>12</td>\n",
       "    </tr>\n",
       "    <tr>\n",
       "      <th>252</th>\n",
       "      <td>10712</td>\n",
       "      <td>2022-12-29</td>\n",
       "      <td>Fries</td>\n",
       "      <td>3.49</td>\n",
       "      <td>630.372493</td>\n",
       "      <td>Drive-thru</td>\n",
       "      <td>Gift Card</td>\n",
       "      <td>Walter Muller</td>\n",
       "      <td>Berlin</td>\n",
       "      <td>2022</td>\n",
       "      <td>2200.0</td>\n",
       "      <td>12</td>\n",
       "    </tr>\n",
       "    <tr>\n",
       "      <th>253</th>\n",
       "      <td>10713</td>\n",
       "      <td>2022-12-29</td>\n",
       "      <td>Beverages</td>\n",
       "      <td>2.95</td>\n",
       "      <td>677.966102</td>\n",
       "      <td>Drive-thru</td>\n",
       "      <td>Gift Card</td>\n",
       "      <td>Walter Muller</td>\n",
       "      <td>Berlin</td>\n",
       "      <td>2022</td>\n",
       "      <td>2000.0</td>\n",
       "      <td>12</td>\n",
       "    </tr>\n",
       "  </tbody>\n",
       "</table>\n",
       "<p>141 rows × 12 columns</p>\n",
       "</div>"
      ],
      "text/plain": [
       "     Order ID       Date             Product  Price    Quantity Purchase Type  \\\n",
       "110     10570 2022-12-01             Burgers  12.99  492.686682       Online    \n",
       "111     10571 2022-12-01  Chicken Sandwiches   9.95  201.005025       Online    \n",
       "112     10572 2022-12-01               Fries   3.49  573.065903       Online    \n",
       "113     10573 2022-12-01           Beverages   2.95  677.966102       Online    \n",
       "114     10574 2022-12-01       Sides & Other   4.99  200.400802       Online    \n",
       "..        ...        ...                 ...    ...         ...           ...   \n",
       "249     10709 2022-12-28       Sides & Other   4.99  200.400802   Drive-thru    \n",
       "250     10710 2022-12-29             Burgers  12.99  754.426482   Drive-thru    \n",
       "251     10711 2022-12-29  Chicken Sandwiches   9.95  281.407035   Drive-thru    \n",
       "252     10712 2022-12-29               Fries   3.49  630.372493   Drive-thru    \n",
       "253     10713 2022-12-29           Beverages   2.95  677.966102   Drive-thru    \n",
       "\n",
       "    Payment Method        Manager    City  Year  Revenue  Month  \n",
       "110    Credit Card    Tom Jackson  London  2022   6400.0     12  \n",
       "111    Credit Card    Tom Jackson  London  2022   2000.0     12  \n",
       "112    Credit Card     Remy Monet   Paris  2022   2000.0     12  \n",
       "113    Credit Card     Remy Monet   Paris  2022   2000.0     12  \n",
       "114    Credit Card     Remy Monet   Paris  2022   1000.0     12  \n",
       "..             ...            ...     ...   ...      ...    ...  \n",
       "249      Gift Card  Walter Muller  Berlin  2022   1000.0     12  \n",
       "250      Gift Card  Walter Muller  Berlin  2022   9800.0     12  \n",
       "251      Gift Card  Walter Muller  Berlin  2022   2800.0     12  \n",
       "252      Gift Card  Walter Muller  Berlin  2022   2200.0     12  \n",
       "253      Gift Card  Walter Muller  Berlin  2022   2000.0     12  \n",
       "\n",
       "[141 rows x 12 columns]"
      ]
     },
     "execution_count": 237,
     "metadata": {},
     "output_type": "execute_result"
    }
   ],
   "source": [
    "m12=sales_df[sales_df['Month']==12]\n",
    "m12"
   ]
  },
  {
   "cell_type": "code",
   "execution_count": 239,
   "id": "1eb351db-f4b4-45f1-9141-193c4927196a",
   "metadata": {},
   "outputs": [
    {
     "data": {
      "text/plain": [
       "3102.127659574468"
      ]
     },
     "execution_count": 239,
     "metadata": {},
     "output_type": "execute_result"
    }
   ],
   "source": [
    "m12['Revenue'].mean()"
   ]
  },
  {
   "cell_type": "markdown",
   "id": "9fda8ad3-587f-4559-bb27-b07c4a32e0be",
   "metadata": {},
   "source": [
    "- Q.7) Standard Deviation of Revenue and Quantity?\n"
   ]
  },
  {
   "cell_type": "code",
   "execution_count": 242,
   "id": "eac2843a-6766-49c7-8735-5132fa499298",
   "metadata": {},
   "outputs": [
    {
     "data": {
      "text/plain": [
       "214.88955129185305"
      ]
     },
     "execution_count": 242,
     "metadata": {},
     "output_type": "execute_result"
    }
   ],
   "source": [
    "sales_df['Quantity'].std()"
   ]
  },
  {
   "cell_type": "code",
   "execution_count": 244,
   "id": "806d8331-4833-4fdb-8417-fb81f3109533",
   "metadata": {},
   "outputs": [
    {
     "data": {
      "text/plain": [
       "2420.1241927718024"
      ]
     },
     "execution_count": 244,
     "metadata": {},
     "output_type": "execute_result"
    }
   ],
   "source": [
    "sales_df['Revenue'].std()"
   ]
  },
  {
   "cell_type": "markdown",
   "id": "b8f9664f-f594-4076-9f87-e687694b3947",
   "metadata": {},
   "source": [
    "- Q.8) variance of Revenue and Quantity "
   ]
  },
  {
   "cell_type": "code",
   "execution_count": 249,
   "id": "f59150b0-58fd-4472-86d4-f3a89da42ef6",
   "metadata": {},
   "outputs": [
    {
     "data": {
      "text/plain": [
       "46177.51925441394"
      ]
     },
     "execution_count": 249,
     "metadata": {},
     "output_type": "execute_result"
    }
   ],
   "source": [
    "sales_df['Quantity'].var()"
   ]
  },
  {
   "cell_type": "code",
   "execution_count": 251,
   "id": "d876fa13-92d4-4567-975d-4db459d56d7a",
   "metadata": {},
   "outputs": [
    {
     "data": {
      "text/plain": [
       "5857001.108439369"
      ]
     },
     "execution_count": 251,
     "metadata": {},
     "output_type": "execute_result"
    }
   ],
   "source": [
    "sales_df['Revenue'].var()"
   ]
  },
  {
   "cell_type": "markdown",
   "id": "751c1796-8894-4c34-bf60-8f564376a8a2",
   "metadata": {},
   "source": [
    "- Q.9) is revenue increassing or decressing over timw?"
   ]
  },
  {
   "cell_type": "code",
   "execution_count": 256,
   "id": "13c5c8b7-e0ec-49fa-90e4-41ebfb4aac85",
   "metadata": {},
   "outputs": [
    {
     "data": {
      "text/html": [
       "<div>\n",
       "<style scoped>\n",
       "    .dataframe tbody tr th:only-of-type {\n",
       "        vertical-align: middle;\n",
       "    }\n",
       "\n",
       "    .dataframe tbody tr th {\n",
       "        vertical-align: top;\n",
       "    }\n",
       "\n",
       "    .dataframe thead th {\n",
       "        text-align: right;\n",
       "    }\n",
       "</style>\n",
       "<table border=\"1\" class=\"dataframe\">\n",
       "  <thead>\n",
       "    <tr style=\"text-align: right;\">\n",
       "      <th></th>\n",
       "      <th>Order ID</th>\n",
       "      <th>Date</th>\n",
       "      <th>Product</th>\n",
       "      <th>Price</th>\n",
       "      <th>Quantity</th>\n",
       "      <th>Purchase Type</th>\n",
       "      <th>Payment Method</th>\n",
       "      <th>Manager</th>\n",
       "      <th>City</th>\n",
       "      <th>Year</th>\n",
       "      <th>Revenue</th>\n",
       "      <th>Month</th>\n",
       "    </tr>\n",
       "  </thead>\n",
       "  <tbody>\n",
       "    <tr>\n",
       "      <th>0</th>\n",
       "      <td>10452</td>\n",
       "      <td>2022-11-07</td>\n",
       "      <td>Fries</td>\n",
       "      <td>3.49</td>\n",
       "      <td>573.065903</td>\n",
       "      <td>Online</td>\n",
       "      <td>Gift Card</td>\n",
       "      <td>Tom Jackson</td>\n",
       "      <td>London</td>\n",
       "      <td>2022</td>\n",
       "      <td>2000.0</td>\n",
       "      <td>11</td>\n",
       "    </tr>\n",
       "    <tr>\n",
       "      <th>1</th>\n",
       "      <td>10453</td>\n",
       "      <td>2022-11-07</td>\n",
       "      <td>Beverages</td>\n",
       "      <td>2.95</td>\n",
       "      <td>745.762712</td>\n",
       "      <td>Online</td>\n",
       "      <td>Gift Card</td>\n",
       "      <td>Pablo Perez</td>\n",
       "      <td>Madrid</td>\n",
       "      <td>2022</td>\n",
       "      <td>2200.0</td>\n",
       "      <td>11</td>\n",
       "    </tr>\n",
       "  </tbody>\n",
       "</table>\n",
       "</div>"
      ],
      "text/plain": [
       "   Order ID       Date    Product  Price    Quantity Purchase Type  \\\n",
       "0     10452 2022-11-07      Fries   3.49  573.065903       Online    \n",
       "1     10453 2022-11-07  Beverages   2.95  745.762712       Online    \n",
       "\n",
       "  Payment Method      Manager    City  Year  Revenue  Month  \n",
       "0      Gift Card  Tom Jackson  London  2022   2000.0     11  \n",
       "1      Gift Card  Pablo Perez  Madrid  2022   2200.0     11  "
      ]
     },
     "execution_count": 256,
     "metadata": {},
     "output_type": "execute_result"
    }
   ],
   "source": [
    "sales_df.head(2)"
   ]
  },
  {
   "cell_type": "code",
   "execution_count": 260,
   "id": "3d597781-e4e4-460f-b48d-2b1c8a4189b0",
   "metadata": {},
   "outputs": [
    {
     "data": {
      "text/plain": [
       "332113.69454723474"
      ]
     },
     "execution_count": 260,
     "metadata": {},
     "output_type": "execute_result"
    }
   ],
   "source": [
    "m11.Revenue.sum()"
   ]
  },
  {
   "cell_type": "code",
   "execution_count": 262,
   "id": "3ba363a4-e393-4987-96ab-1d5a0d51fd28",
   "metadata": {},
   "outputs": [
    {
     "data": {
      "text/plain": [
       "437400.0"
      ]
     },
     "execution_count": 262,
     "metadata": {},
     "output_type": "execute_result"
    }
   ],
   "source": [
    "m12.Revenue.sum()"
   ]
  },
  {
   "cell_type": "markdown",
   "id": "fc1632fd-6e00-4469-a13c-42e5e066de39",
   "metadata": {},
   "source": [
    "- Q.10) Average 'Quantity sold ' & 'Average Revenue' for each product  "
   ]
  },
  {
   "cell_type": "code",
   "execution_count": 265,
   "id": "136102f8-feee-4cef-ac3f-01bdd58ce052",
   "metadata": {},
   "outputs": [
    {
     "ename": "ValueError",
     "evalue": "Cannot subset columns with a tuple with more than one element. Use a list instead.",
     "output_type": "error",
     "traceback": [
      "\u001b[1;31m---------------------------------------------------------------------------\u001b[0m",
      "\u001b[1;31mValueError\u001b[0m                                Traceback (most recent call last)",
      "Cell \u001b[1;32mIn[265], line 1\u001b[0m\n\u001b[1;32m----> 1\u001b[0m sales_df\u001b[38;5;241m.\u001b[39mgroupby(\u001b[38;5;124m'\u001b[39m\u001b[38;5;124mProduct\u001b[39m\u001b[38;5;124m'\u001b[39m)[\u001b[38;5;124m'\u001b[39m\u001b[38;5;124mQuantity\u001b[39m\u001b[38;5;124m'\u001b[39m,\u001b[38;5;124m'\u001b[39m\u001b[38;5;124mRevenue\u001b[39m\u001b[38;5;124m'\u001b[39m]\u001b[38;5;241m.\u001b[39magg({\u001b[38;5;124m'\u001b[39m\u001b[38;5;124mQuantity\u001b[39m\u001b[38;5;124m'\u001b[39m:\u001b[38;5;124m'\u001b[39m\u001b[38;5;124mmean\u001b[39m\u001b[38;5;124m'\u001b[39m,\u001b[38;5;124m'\u001b[39m\u001b[38;5;124mRevenue\u001b[39m\u001b[38;5;124m'\u001b[39m:\u001b[38;5;124m'\u001b[39m\u001b[38;5;124mmean\u001b[39m\u001b[38;5;124m'\u001b[39m})\n",
      "File \u001b[1;32m~\\anaconda3\\Lib\\site-packages\\pandas\\core\\groupby\\generic.py:1947\u001b[0m, in \u001b[0;36mDataFrameGroupBy.__getitem__\u001b[1;34m(self, key)\u001b[0m\n\u001b[0;32m   1943\u001b[0m \u001b[38;5;66;03m# per GH 23566\u001b[39;00m\n\u001b[0;32m   1944\u001b[0m \u001b[38;5;28;01mif\u001b[39;00m \u001b[38;5;28misinstance\u001b[39m(key, \u001b[38;5;28mtuple\u001b[39m) \u001b[38;5;129;01mand\u001b[39;00m \u001b[38;5;28mlen\u001b[39m(key) \u001b[38;5;241m>\u001b[39m \u001b[38;5;241m1\u001b[39m:\n\u001b[0;32m   1945\u001b[0m     \u001b[38;5;66;03m# if len == 1, then it becomes a SeriesGroupBy and this is actually\u001b[39;00m\n\u001b[0;32m   1946\u001b[0m     \u001b[38;5;66;03m# valid syntax, so don't raise\u001b[39;00m\n\u001b[1;32m-> 1947\u001b[0m     \u001b[38;5;28;01mraise\u001b[39;00m \u001b[38;5;167;01mValueError\u001b[39;00m(\n\u001b[0;32m   1948\u001b[0m         \u001b[38;5;124m\"\u001b[39m\u001b[38;5;124mCannot subset columns with a tuple with more than one element. \u001b[39m\u001b[38;5;124m\"\u001b[39m\n\u001b[0;32m   1949\u001b[0m         \u001b[38;5;124m\"\u001b[39m\u001b[38;5;124mUse a list instead.\u001b[39m\u001b[38;5;124m\"\u001b[39m\n\u001b[0;32m   1950\u001b[0m     )\n\u001b[0;32m   1951\u001b[0m \u001b[38;5;28;01mreturn\u001b[39;00m \u001b[38;5;28msuper\u001b[39m()\u001b[38;5;241m.\u001b[39m\u001b[38;5;21m__getitem__\u001b[39m(key)\n",
      "\u001b[1;31mValueError\u001b[0m: Cannot subset columns with a tuple with more than one element. Use a list instead."
     ]
    }
   ],
   "source": [
    "sales_df.groupby('Product')['Quantity','Revenue'].agg({'Quantity':'mean','Revenue':'mean'})"
   ]
  },
  {
   "cell_type": "code",
   "execution_count": null,
   "id": "dd5ae601-734c-4aec-85a8-fa3f8217f262",
   "metadata": {},
   "outputs": [],
   "source": []
  }
 ],
 "metadata": {
  "kernelspec": {
   "display_name": "Python [conda env:base] *",
   "language": "python",
   "name": "conda-base-py"
  },
  "language_info": {
   "codemirror_mode": {
    "name": "ipython",
    "version": 3
   },
   "file_extension": ".py",
   "mimetype": "text/x-python",
   "name": "python",
   "nbconvert_exporter": "python",
   "pygments_lexer": "ipython3",
   "version": "3.12.7"
  }
 },
 "nbformat": 4,
 "nbformat_minor": 5
}
